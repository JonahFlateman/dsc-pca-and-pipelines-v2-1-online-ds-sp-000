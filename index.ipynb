{
 "cells": [
  {
   "cell_type": "markdown",
   "metadata": {},
   "source": [
    "# Integrating PCA in Pipelines - Lab"
   ]
  },
  {
   "cell_type": "markdown",
   "metadata": {},
   "source": [
    "## Introduction"
   ]
  },
  {
   "cell_type": "markdown",
   "metadata": {},
   "source": [
    "In a previous section, you learned about how to use pipelines in scikit-learn to combine several supervised learning algorithms in a manageable pipeline. In this lesson, you will integrate PCA along with classifiers in the pipeline. "
   ]
  },
  {
   "cell_type": "markdown",
   "metadata": {},
   "source": [
    "## Objectives\n",
    "\n",
    "In this lab you will: \n",
    "\n",
    "- Integrate PCA in scikit-learn pipelines "
   ]
  },
  {
   "cell_type": "markdown",
   "metadata": {},
   "source": [
    "## The Data Science Workflow"
   ]
  },
  {
   "cell_type": "markdown",
   "metadata": {},
   "source": [
    "You will be following the data science workflow:\n",
    "\n",
    "1. Initial data inspection, exploratory data analysis, and cleaning\n",
    "2. Feature engineering and selection\n",
    "3. Create a baseline model\n",
    "4. Create a machine learning pipeline and compare results with the baseline model\n",
    "5. Interpret the model and draw conclusions"
   ]
  },
  {
   "cell_type": "markdown",
   "metadata": {},
   "source": [
    "##  Initial data inspection, exploratory data analysis, and cleaning"
   ]
  },
  {
   "cell_type": "markdown",
   "metadata": {},
   "source": [
    "You'll use a dataset created by the Otto group, which was also used in a [Kaggle competition](https://www.kaggle.com/c/otto-group-product-classification-challenge/data). The description of the dataset is as follows:\n",
    "\n",
    "The Otto Group is one of the world’s biggest e-commerce companies, with subsidiaries in more than 20 countries, including Crate & Barrel (USA), Otto.de (Germany) and 3 Suisses (France). They are selling millions of products worldwide every day, with several thousand products being added to their product line.\n",
    "\n",
    "A consistent analysis of the performance of their products is crucial. However, due to their global infrastructure, many identical products get classified differently. Therefore, the quality of product analysis depends heavily on the ability to accurately cluster similar products. The better the classification, the more insights the Otto Group can generate about their product range.\n",
    "\n",
    "In this lab, you'll use a dataset containing:\n",
    "- A column `id`, which is an anonymous id unique to a product\n",
    "- 93 columns `feat_1`, `feat_2`, ..., `feat_93`, which are the various features of a product\n",
    "- a column `target` - the class of a product\n",
    "\n",
    "\n",
    "\n",
    "The dataset is stored in the `'otto_group.csv'` file. Import this file into a DataFrame called `data`, and then: \n",
    "\n",
    "- Check for missing values \n",
    "- Check the distribution of columns \n",
    "- ... and any other things that come to your mind to explore the data "
   ]
  },
  {
   "cell_type": "code",
   "execution_count": 1,
   "metadata": {},
   "outputs": [
    {
     "name": "stderr",
     "output_type": "stream",
     "text": [
      "/opt/anaconda3/envs/learn-env/lib/python3.6/site-packages/statsmodels/tools/_testing.py:19: FutureWarning: pandas.util.testing is deprecated. Use the functions in the public API at pandas.testing instead.\n",
      "  import pandas.util.testing as tm\n"
     ]
    },
    {
     "data": {
      "text/html": [
       "<div>\n",
       "<style scoped>\n",
       "    .dataframe tbody tr th:only-of-type {\n",
       "        vertical-align: middle;\n",
       "    }\n",
       "\n",
       "    .dataframe tbody tr th {\n",
       "        vertical-align: top;\n",
       "    }\n",
       "\n",
       "    .dataframe thead th {\n",
       "        text-align: right;\n",
       "    }\n",
       "</style>\n",
       "<table border=\"1\" class=\"dataframe\">\n",
       "  <thead>\n",
       "    <tr style=\"text-align: right;\">\n",
       "      <th></th>\n",
       "      <th>id</th>\n",
       "      <th>feat_1</th>\n",
       "      <th>feat_2</th>\n",
       "      <th>feat_3</th>\n",
       "      <th>feat_4</th>\n",
       "      <th>feat_5</th>\n",
       "      <th>feat_6</th>\n",
       "      <th>feat_7</th>\n",
       "      <th>feat_8</th>\n",
       "      <th>feat_9</th>\n",
       "      <th>...</th>\n",
       "      <th>feat_85</th>\n",
       "      <th>feat_86</th>\n",
       "      <th>feat_87</th>\n",
       "      <th>feat_88</th>\n",
       "      <th>feat_89</th>\n",
       "      <th>feat_90</th>\n",
       "      <th>feat_91</th>\n",
       "      <th>feat_92</th>\n",
       "      <th>feat_93</th>\n",
       "      <th>target</th>\n",
       "    </tr>\n",
       "  </thead>\n",
       "  <tbody>\n",
       "    <tr>\n",
       "      <th>0</th>\n",
       "      <td>1</td>\n",
       "      <td>1</td>\n",
       "      <td>0</td>\n",
       "      <td>0</td>\n",
       "      <td>0</td>\n",
       "      <td>0</td>\n",
       "      <td>0</td>\n",
       "      <td>0</td>\n",
       "      <td>0</td>\n",
       "      <td>0</td>\n",
       "      <td>...</td>\n",
       "      <td>1</td>\n",
       "      <td>0</td>\n",
       "      <td>0</td>\n",
       "      <td>0</td>\n",
       "      <td>0</td>\n",
       "      <td>0</td>\n",
       "      <td>0</td>\n",
       "      <td>0</td>\n",
       "      <td>0</td>\n",
       "      <td>Class_1</td>\n",
       "    </tr>\n",
       "    <tr>\n",
       "      <th>1</th>\n",
       "      <td>2</td>\n",
       "      <td>0</td>\n",
       "      <td>0</td>\n",
       "      <td>0</td>\n",
       "      <td>0</td>\n",
       "      <td>0</td>\n",
       "      <td>0</td>\n",
       "      <td>0</td>\n",
       "      <td>1</td>\n",
       "      <td>0</td>\n",
       "      <td>...</td>\n",
       "      <td>0</td>\n",
       "      <td>0</td>\n",
       "      <td>0</td>\n",
       "      <td>0</td>\n",
       "      <td>0</td>\n",
       "      <td>0</td>\n",
       "      <td>0</td>\n",
       "      <td>0</td>\n",
       "      <td>0</td>\n",
       "      <td>Class_1</td>\n",
       "    </tr>\n",
       "    <tr>\n",
       "      <th>2</th>\n",
       "      <td>3</td>\n",
       "      <td>0</td>\n",
       "      <td>0</td>\n",
       "      <td>0</td>\n",
       "      <td>0</td>\n",
       "      <td>0</td>\n",
       "      <td>0</td>\n",
       "      <td>0</td>\n",
       "      <td>1</td>\n",
       "      <td>0</td>\n",
       "      <td>...</td>\n",
       "      <td>0</td>\n",
       "      <td>0</td>\n",
       "      <td>0</td>\n",
       "      <td>0</td>\n",
       "      <td>0</td>\n",
       "      <td>0</td>\n",
       "      <td>0</td>\n",
       "      <td>0</td>\n",
       "      <td>0</td>\n",
       "      <td>Class_1</td>\n",
       "    </tr>\n",
       "    <tr>\n",
       "      <th>3</th>\n",
       "      <td>4</td>\n",
       "      <td>1</td>\n",
       "      <td>0</td>\n",
       "      <td>0</td>\n",
       "      <td>1</td>\n",
       "      <td>6</td>\n",
       "      <td>1</td>\n",
       "      <td>5</td>\n",
       "      <td>0</td>\n",
       "      <td>0</td>\n",
       "      <td>...</td>\n",
       "      <td>0</td>\n",
       "      <td>1</td>\n",
       "      <td>2</td>\n",
       "      <td>0</td>\n",
       "      <td>0</td>\n",
       "      <td>0</td>\n",
       "      <td>0</td>\n",
       "      <td>0</td>\n",
       "      <td>0</td>\n",
       "      <td>Class_1</td>\n",
       "    </tr>\n",
       "    <tr>\n",
       "      <th>4</th>\n",
       "      <td>5</td>\n",
       "      <td>0</td>\n",
       "      <td>0</td>\n",
       "      <td>0</td>\n",
       "      <td>0</td>\n",
       "      <td>0</td>\n",
       "      <td>0</td>\n",
       "      <td>0</td>\n",
       "      <td>0</td>\n",
       "      <td>0</td>\n",
       "      <td>...</td>\n",
       "      <td>1</td>\n",
       "      <td>0</td>\n",
       "      <td>0</td>\n",
       "      <td>0</td>\n",
       "      <td>0</td>\n",
       "      <td>1</td>\n",
       "      <td>0</td>\n",
       "      <td>0</td>\n",
       "      <td>0</td>\n",
       "      <td>Class_1</td>\n",
       "    </tr>\n",
       "  </tbody>\n",
       "</table>\n",
       "<p>5 rows × 95 columns</p>\n",
       "</div>"
      ],
      "text/plain": [
       "   id  feat_1  feat_2  feat_3  feat_4  feat_5  feat_6  feat_7  feat_8  feat_9  \\\n",
       "0   1       1       0       0       0       0       0       0       0       0   \n",
       "1   2       0       0       0       0       0       0       0       1       0   \n",
       "2   3       0       0       0       0       0       0       0       1       0   \n",
       "3   4       1       0       0       1       6       1       5       0       0   \n",
       "4   5       0       0       0       0       0       0       0       0       0   \n",
       "\n",
       "   ...  feat_85  feat_86  feat_87  feat_88  feat_89  feat_90  feat_91  \\\n",
       "0  ...        1        0        0        0        0        0        0   \n",
       "1  ...        0        0        0        0        0        0        0   \n",
       "2  ...        0        0        0        0        0        0        0   \n",
       "3  ...        0        1        2        0        0        0        0   \n",
       "4  ...        1        0        0        0        0        1        0   \n",
       "\n",
       "   feat_92  feat_93   target  \n",
       "0        0        0  Class_1  \n",
       "1        0        0  Class_1  \n",
       "2        0        0  Class_1  \n",
       "3        0        0  Class_1  \n",
       "4        0        0  Class_1  \n",
       "\n",
       "[5 rows x 95 columns]"
      ]
     },
     "execution_count": 1,
     "metadata": {},
     "output_type": "execute_result"
    }
   ],
   "source": [
    "# Your code here\n",
    "import pandas as pd\n",
    "import numpy as np\n",
    "import matplotlib.pyplot as plt\n",
    "%matplotlib inline\n",
    "import seaborn as sns\n",
    "data = pd.read_csv('otto_group.csv')\n",
    "data.head()"
   ]
  },
  {
   "cell_type": "code",
   "execution_count": 2,
   "metadata": {},
   "outputs": [
    {
     "data": {
      "text/plain": [
       "id         0\n",
       "feat_1     0\n",
       "feat_2     0\n",
       "feat_3     0\n",
       "feat_4     0\n",
       "          ..\n",
       "feat_90    0\n",
       "feat_91    0\n",
       "feat_92    0\n",
       "feat_93    0\n",
       "target     0\n",
       "Length: 95, dtype: int64"
      ]
     },
     "execution_count": 2,
     "metadata": {},
     "output_type": "execute_result"
    }
   ],
   "source": [
    "# Your code here\n",
    "data.isna().sum()"
   ]
  },
  {
   "cell_type": "code",
   "execution_count": 3,
   "metadata": {},
   "outputs": [
    {
     "data": {
      "text/plain": [
       "array([[<matplotlib.axes._subplots.AxesSubplot object at 0x7fa9096141d0>,\n",
       "        <matplotlib.axes._subplots.AxesSubplot object at 0x7fa9080597b8>],\n",
       "       [<matplotlib.axes._subplots.AxesSubplot object at 0x7fa9095a2d68>,\n",
       "        <matplotlib.axes._subplots.AxesSubplot object at 0x7fa909523358>],\n",
       "       [<matplotlib.axes._subplots.AxesSubplot object at 0x7fa909554908>,\n",
       "        <matplotlib.axes._subplots.AxesSubplot object at 0x7fa9094cdeb8>]],\n",
       "      dtype=object)"
      ]
     },
     "execution_count": 3,
     "metadata": {},
     "output_type": "execute_result"
    },
    {
     "data": {
      "image/png": "[encoded data removed]",
      "text/plain": [
       "<Figure size 432x288 with 6 Axes>"
      ]
     },
     "metadata": {
      "needs_background": "light"
     },
     "output_type": "display_data"
    }
   ],
   "source": [
    "# Your code here\n",
    "first_five_features = data.loc[:, 'feat_1':'feat_5']\n",
    "first_five_features.hist()"
   ]
  },
  {
   "cell_type": "code",
   "execution_count": 4,
   "metadata": {},
   "outputs": [],
   "source": [
    "# Your code here"
   ]
  },
  {
   "cell_type": "code",
   "execution_count": 5,
   "metadata": {},
   "outputs": [],
   "source": [
    "# Your code here"
   ]
  },
  {
   "cell_type": "code",
   "execution_count": 6,
   "metadata": {},
   "outputs": [],
   "source": [
    "# Your code here"
   ]
  },
  {
   "cell_type": "markdown",
   "metadata": {},
   "source": [
    "If you look at all the histograms, you can tell that a lot of the data are zero-inflated, so most of the variables contain mostly zeros and then some higher values here and there. No normality, but for most machine learning techniques this is not an issue. "
   ]
  },
  {
   "cell_type": "code",
   "execution_count": 7,
   "metadata": {},
   "outputs": [
    {
     "data": {
      "text/plain": [
       "<matplotlib.axes._subplots.AxesSubplot at 0x7fa9034ae278>"
      ]
     },
     "execution_count": 7,
     "metadata": {},
     "output_type": "execute_result"
    },
    {
     "data": {
      "image/png": "[encoded data removed]",
      "text/plain": [
       "<Figure size 432x288 with 1 Axes>"
      ]
     },
     "metadata": {
      "needs_background": "light"
     },
     "output_type": "display_data"
    }
   ],
   "source": [
    "# Your code here\n",
    "first_five_features.boxplot()"
   ]
  },
  {
   "cell_type": "markdown",
   "metadata": {},
   "source": [
    "Because there are so many zeroes, most values above zero will seem to be outliers. The safe decision for this data is to not delete any outliers and see what happens. With many 0s, sparse data is available and high values may be super informative. Moreover, without having any intuitive meaning for each of the features, we don't know if a value of ~260 is actually an outlier."
   ]
  },
  {
   "cell_type": "code",
   "execution_count": 8,
   "metadata": {},
   "outputs": [],
   "source": [
    "# Your code here"
   ]
  },
  {
   "cell_type": "markdown",
   "metadata": {},
   "source": [
    "## Feature engineering and selection with PCA"
   ]
  },
  {
   "cell_type": "markdown",
   "metadata": {},
   "source": [
    "Have a look at the correlation structure of your features using a [heatmap](https://seaborn.pydata.org/generated/seaborn.heatmap.html)."
   ]
  },
  {
   "cell_type": "code",
   "execution_count": 9,
   "metadata": {},
   "outputs": [
    {
     "data": {
      "text/plain": [
       "<matplotlib.axes._subplots.AxesSubplot at 0x7fa9086d9080>"
      ]
     },
     "execution_count": 9,
     "metadata": {},
     "output_type": "execute_result"
    },
    {
     "data": {
      "image/png": "[encoded data removed]",
      "text/plain": [
       "<Figure size 432x288 with 2 Axes>"
      ]
     },
     "metadata": {
      "needs_background": "light"
     },
     "output_type": "display_data"
    }
   ],
   "source": [
    "# Your code here\n",
    "all_features = data.loc[:, 'feat_1':'feat_93']\n",
    "sns.heatmap(all_features.corr())"
   ]
  },
  {
   "cell_type": "markdown",
   "metadata": {},
   "source": [
    "Use PCA to select a number of features in a way that you still keep 80% of your explained variance."
   ]
  },
  {
   "cell_type": "code",
   "execution_count": 10,
   "metadata": {},
   "outputs": [
    {
     "name": "stdout",
     "output_type": "stream",
     "text": [
      "0.8003898291118068\n"
     ]
    }
   ],
   "source": [
    "# Your code here\n",
    "from sklearn.decomposition import PCA\n",
    "pca_1 = PCA(n_components=27)\n",
    "principalComponents = pca_1.fit_transform(all_features)\n",
    "print(np.sum(pca_1.explained_variance_ratio_))"
   ]
  },
  {
   "cell_type": "code",
   "execution_count": 11,
   "metadata": {},
   "outputs": [],
   "source": [
    "# Your code here"
   ]
  },
  {
   "cell_type": "markdown",
   "metadata": {},
   "source": [
    "## Create a train-test split with a test size of 40%\n",
    "\n",
    "This is a relatively big training set, so you can assign 40% to the test set. Set the `random_state` to 42. "
   ]
  },
  {
   "cell_type": "code",
   "execution_count": 12,
   "metadata": {},
   "outputs": [],
   "source": [
    "# Your code here\n",
    "from sklearn.model_selection import train_test_split\n",
    "X = all_features\n",
    "y = data.target\n",
    "X_train, X_test, y_train, y_test = train_test_split(X, y, test_size=.4, random_state=42)"
   ]
  },
  {
   "cell_type": "code",
   "execution_count": 13,
   "metadata": {},
   "outputs": [],
   "source": [
    "# Your code here"
   ]
  },
  {
   "cell_type": "markdown",
   "metadata": {},
   "source": [
    "## Create a baseline model"
   ]
  },
  {
   "cell_type": "markdown",
   "metadata": {},
   "source": [
    "Create your baseline model *in a pipeline setting*. In the pipeline: \n",
    "\n",
    "- Your first step will be to scale your features down to the number of features that ensure you keep just 80% of your explained variance (which we saw before)\n",
    "- Your second step will be to build a basic logistic regression model \n",
    "\n",
    "Make sure to fit the model using the training set and test the result by obtaining the accuracy using the test set. Set the `random_state` to 123. "
   ]
  },
  {
   "cell_type": "code",
   "execution_count": 14,
   "metadata": {},
   "outputs": [],
   "source": [
    "# Your code here\n",
    "from sklearn.linear_model import LogisticRegression\n",
    "from sklearn.pipeline import Pipeline"
   ]
  },
  {
   "cell_type": "code",
   "execution_count": 15,
   "metadata": {},
   "outputs": [
    {
     "name": "stderr",
     "output_type": "stream",
     "text": [
      "/opt/anaconda3/envs/learn-env/lib/python3.6/site-packages/sklearn/linear_model/_logistic.py:765: ConvergenceWarning: lbfgs failed to converge (status=1):\n",
      "STOP: TOTAL NO. of ITERATIONS REACHED LIMIT.\n",
      "\n",
      "Increase the number of iterations (max_iter) or scale the data as shown in:\n",
      "    https://scikit-learn.org/stable/modules/preprocessing.html\n",
      "Please also refer to the documentation for alternative solver options:\n",
      "    https://scikit-learn.org/stable/modules/linear_model.html#logistic-regression\n",
      "  extra_warning_msg=_LOGISTIC_SOLVER_CONVERGENCE_MSG)\n"
     ]
    },
    {
     "data": {
      "text/plain": [
       "Pipeline(steps=[('pca', PCA(n_components=27, random_state=123)),\n",
       "                ('clf', LogisticRegression(random_state=123))])"
      ]
     },
     "execution_count": 15,
     "metadata": {},
     "output_type": "execute_result"
    }
   ],
   "source": [
    "# Your code here\n",
    "pipeline = Pipeline([('pca', PCA(n_components=27, random_state=123)), ('clf', LogisticRegression(random_state=123))])\n",
    "pipeline.fit(X_train, y_train)"
   ]
  },
  {
   "cell_type": "code",
   "execution_count": 16,
   "metadata": {},
   "outputs": [
    {
     "data": {
      "text/plain": [
       "0.7279411764705882"
      ]
     },
     "execution_count": 16,
     "metadata": {},
     "output_type": "execute_result"
    }
   ],
   "source": [
    "# Your code here\n",
    "pipeline.score(X_test, y_test)"
   ]
  },
  {
   "cell_type": "markdown",
   "metadata": {},
   "source": [
    "## Create a pipeline consisting of a linear SVM, a simple decision tree, and a simple random forest classifier"
   ]
  },
  {
   "cell_type": "markdown",
   "metadata": {},
   "source": [
    "Repeat the above, but now create three different pipelines:\n",
    "- One for a standard linear SVM\n",
    "- One for a default decision tree\n",
    "- One for a random forest classifier"
   ]
  },
  {
   "cell_type": "code",
   "execution_count": 17,
   "metadata": {},
   "outputs": [],
   "source": [
    "# Your code here\n",
    "from sklearn import svm\n",
    "from sklearn.ensemble import RandomForestClassifier\n",
    "from sklearn import tree\n",
    "# ⏰ This cell may take several minutes to run"
   ]
  },
  {
   "cell_type": "code",
   "execution_count": 18,
   "metadata": {},
   "outputs": [
    {
     "data": {
      "text/plain": [
       "Pipeline(steps=[('pca', PCA(n_components=27, random_state=123)),\n",
       "                ('clf', SVC(random_state=123))])"
      ]
     },
     "execution_count": 18,
     "metadata": {},
     "output_type": "execute_result"
    }
   ],
   "source": [
    "pipeline_svm = Pipeline([('pca', PCA(n_components=27, random_state=123)), ('clf', svm.SVC(random_state=123))])\n",
    "pipeline_svm.fit(X_train, y_train)"
   ]
  },
  {
   "cell_type": "code",
   "execution_count": 19,
   "metadata": {},
   "outputs": [
    {
     "data": {
      "text/plain": [
       "0.7536360698125404"
      ]
     },
     "execution_count": 19,
     "metadata": {},
     "output_type": "execute_result"
    }
   ],
   "source": [
    "pipeline_svm.score(X_test, y_test)"
   ]
  },
  {
   "cell_type": "code",
   "execution_count": 20,
   "metadata": {},
   "outputs": [
    {
     "data": {
      "text/plain": [
       "Pipeline(steps=[('pca', PCA(n_components=27, random_state=123)),\n",
       "                ('clf', DecisionTreeClassifier(random_state=123))])"
      ]
     },
     "execution_count": 20,
     "metadata": {},
     "output_type": "execute_result"
    }
   ],
   "source": [
    "pipeline_tree = Pipeline([('pca', PCA(n_components=27, random_state=123)), ('clf', tree.DecisionTreeClassifier(random_state=123))])\n",
    "pipeline_tree.fit(X_train, y_train)"
   ]
  },
  {
   "cell_type": "code",
   "execution_count": 21,
   "metadata": {},
   "outputs": [
    {
     "data": {
      "text/plain": [
       "0.671178086619263"
      ]
     },
     "execution_count": 21,
     "metadata": {},
     "output_type": "execute_result"
    }
   ],
   "source": [
    "pipeline_tree.score(X_test, y_test)"
   ]
  },
  {
   "cell_type": "code",
   "execution_count": 22,
   "metadata": {},
   "outputs": [
    {
     "data": {
      "text/plain": [
       "Pipeline(steps=[('pca', PCA(n_components=27, random_state=123)),\n",
       "                ('clf', RandomForestClassifier(random_state=123))])"
      ]
     },
     "execution_count": 22,
     "metadata": {},
     "output_type": "execute_result"
    }
   ],
   "source": [
    "pipeline_rf = Pipeline([('pca', PCA(n_components=27, random_state=123)), ('clf', RandomForestClassifier(random_state=123))])\n",
    "pipeline_rf.fit(X_train, y_train)"
   ]
  },
  {
   "cell_type": "code",
   "execution_count": 23,
   "metadata": {},
   "outputs": [
    {
     "data": {
      "text/plain": [
       "0.7733516483516484"
      ]
     },
     "execution_count": 23,
     "metadata": {},
     "output_type": "execute_result"
    }
   ],
   "source": [
    "pipeline_rf.score(X_test, y_test)"
   ]
  },
  {
   "cell_type": "markdown",
   "metadata": {},
   "source": [
    "## Pipeline with grid search"
   ]
  },
  {
   "cell_type": "markdown",
   "metadata": {},
   "source": [
    "Construct two pipelines with grid search:\n",
    "- one for random forests - try to have around 40 different models\n",
    "- one for the AdaBoost algorithm "
   ]
  },
  {
   "cell_type": "markdown",
   "metadata": {},
   "source": [
    "### Random Forest pipeline with grid search"
   ]
  },
  {
   "cell_type": "code",
   "execution_count": 24,
   "metadata": {},
   "outputs": [],
   "source": [
    "# Your code here \n",
    "# imports\n",
    "from sklearn.model_selection import GridSearchCV"
   ]
  },
  {
   "cell_type": "code",
   "execution_count": 25,
   "metadata": {},
   "outputs": [
    {
     "name": "stdout",
     "output_type": "stream",
     "text": [
      "Fitting 3 folds for each of 54 candidates, totalling 162 fits\n",
      "[CV] END clf__criterion=entropy, clf__max_depth=2, clf__min_samples_leaf=0.05, clf__min_samples_split=0.05, clf__n_estimators=120; total time=   6.9s\n",
      "[CV] END clf__criterion=entropy, clf__max_depth=2, clf__min_samples_leaf=0.05, clf__min_samples_split=0.05, clf__n_estimators=120; total time=   6.9s\n",
      "[CV] END clf__criterion=entropy, clf__max_depth=2, clf__min_samples_leaf=0.05, clf__min_samples_split=0.05, clf__n_estimators=120; total time=   6.8s\n",
      "[CV] END clf__criterion=entropy, clf__max_depth=2, clf__min_samples_leaf=0.05, clf__min_samples_split=0.1, clf__n_estimators=120; total time=   6.8s\n",
      "[CV] END clf__criterion=entropy, clf__max_depth=2, clf__min_samples_leaf=0.05, clf__min_samples_split=0.1, clf__n_estimators=120; total time=   6.7s\n",
      "[CV] END clf__criterion=entropy, clf__max_depth=2, clf__min_samples_leaf=0.05, clf__min_samples_split=0.1, clf__n_estimators=120; total time=   7.1s\n",
      "[CV] END clf__criterion=entropy, clf__max_depth=2, clf__min_samples_leaf=0.05, clf__min_samples_split=0.2, clf__n_estimators=120; total time=   6.8s\n",
      "[CV] END clf__criterion=entropy, clf__max_depth=2, clf__min_samples_leaf=0.05, clf__min_samples_split=0.2, clf__n_estimators=120; total time=   7.3s\n",
      "[CV] END clf__criterion=entropy, clf__max_depth=2, clf__min_samples_leaf=0.05, clf__min_samples_split=0.2, clf__n_estimators=120; total time=   6.4s\n",
      "[CV] END clf__criterion=entropy, clf__max_depth=2, clf__min_samples_leaf=0.1, clf__min_samples_split=0.05, clf__n_estimators=120; total time=   5.5s\n",
      "[CV] END clf__criterion=entropy, clf__max_depth=2, clf__min_samples_leaf=0.1, clf__min_samples_split=0.05, clf__n_estimators=120; total time=   5.8s\n",
      "[CV] END clf__criterion=entropy, clf__max_depth=2, clf__min_samples_leaf=0.1, clf__min_samples_split=0.05, clf__n_estimators=120; total time=   5.3s\n",
      "[CV] END clf__criterion=entropy, clf__max_depth=2, clf__min_samples_leaf=0.1, clf__min_samples_split=0.1, clf__n_estimators=120; total time=   5.3s\n",
      "[CV] END clf__criterion=entropy, clf__max_depth=2, clf__min_samples_leaf=0.1, clf__min_samples_split=0.1, clf__n_estimators=120; total time=   5.5s\n",
      "[CV] END clf__criterion=entropy, clf__max_depth=2, clf__min_samples_leaf=0.1, clf__min_samples_split=0.1, clf__n_estimators=120; total time=   5.9s\n",
      "[CV] END clf__criterion=entropy, clf__max_depth=2, clf__min_samples_leaf=0.1, clf__min_samples_split=0.2, clf__n_estimators=120; total time=   5.6s\n",
      "[CV] END clf__criterion=entropy, clf__max_depth=2, clf__min_samples_leaf=0.1, clf__min_samples_split=0.2, clf__n_estimators=120; total time=   6.1s\n",
      "[CV] END clf__criterion=entropy, clf__max_depth=2, clf__min_samples_leaf=0.1, clf__min_samples_split=0.2, clf__n_estimators=120; total time=   5.7s\n",
      "[CV] END clf__criterion=entropy, clf__max_depth=2, clf__min_samples_leaf=0.2, clf__min_samples_split=0.05, clf__n_estimators=120; total time=   3.3s\n",
      "[CV] END clf__criterion=entropy, clf__max_depth=2, clf__min_samples_leaf=0.2, clf__min_samples_split=0.05, clf__n_estimators=120; total time=   3.0s\n",
      "[CV] END clf__criterion=entropy, clf__max_depth=2, clf__min_samples_leaf=0.2, clf__min_samples_split=0.05, clf__n_estimators=120; total time=   3.0s\n",
      "[CV] END clf__criterion=entropy, clf__max_depth=2, clf__min_samples_leaf=0.2, clf__min_samples_split=0.1, clf__n_estimators=120; total time=   3.1s\n",
      "[CV] END clf__criterion=entropy, clf__max_depth=2, clf__min_samples_leaf=0.2, clf__min_samples_split=0.1, clf__n_estimators=120; total time=   3.0s\n",
      "[CV] END clf__criterion=entropy, clf__max_depth=2, clf__min_samples_leaf=0.2, clf__min_samples_split=0.1, clf__n_estimators=120; total time=   3.0s\n",
      "[CV] END clf__criterion=entropy, clf__max_depth=2, clf__min_samples_leaf=0.2, clf__min_samples_split=0.2, clf__n_estimators=120; total time=   3.0s\n",
      "[CV] END clf__criterion=entropy, clf__max_depth=2, clf__min_samples_leaf=0.2, clf__min_samples_split=0.2, clf__n_estimators=120; total time=   3.0s\n",
      "[CV] END clf__criterion=entropy, clf__max_depth=2, clf__min_samples_leaf=0.2, clf__min_samples_split=0.2, clf__n_estimators=120; total time=   3.0s\n",
      "[CV] END clf__criterion=entropy, clf__max_depth=4, clf__min_samples_leaf=0.05, clf__min_samples_split=0.05, clf__n_estimators=120; total time=   9.5s\n",
      "[CV] END clf__criterion=entropy, clf__max_depth=4, clf__min_samples_leaf=0.05, clf__min_samples_split=0.05, clf__n_estimators=120; total time=   9.6s\n",
      "[CV] END clf__criterion=entropy, clf__max_depth=4, clf__min_samples_leaf=0.05, clf__min_samples_split=0.05, clf__n_estimators=120; total time=   9.9s\n",
      "[CV] END clf__criterion=entropy, clf__max_depth=4, clf__min_samples_leaf=0.05, clf__min_samples_split=0.1, clf__n_estimators=120; total time=   9.3s\n",
      "[CV] END clf__criterion=entropy, clf__max_depth=4, clf__min_samples_leaf=0.05, clf__min_samples_split=0.1, clf__n_estimators=120; total time=   9.4s\n",
      "[CV] END clf__criterion=entropy, clf__max_depth=4, clf__min_samples_leaf=0.05, clf__min_samples_split=0.1, clf__n_estimators=120; total time=   9.5s\n",
      "[CV] END clf__criterion=entropy, clf__max_depth=4, clf__min_samples_leaf=0.05, clf__min_samples_split=0.2, clf__n_estimators=120; total time=   8.3s\n",
      "[CV] END clf__criterion=entropy, clf__max_depth=4, clf__min_samples_leaf=0.05, clf__min_samples_split=0.2, clf__n_estimators=120; total time=   8.4s\n",
      "[CV] END clf__criterion=entropy, clf__max_depth=4, clf__min_samples_leaf=0.05, clf__min_samples_split=0.2, clf__n_estimators=120; total time=   9.1s\n",
      "[CV] END clf__criterion=entropy, clf__max_depth=4, clf__min_samples_leaf=0.1, clf__min_samples_split=0.05, clf__n_estimators=120; total time=   6.1s\n",
      "[CV] END clf__criterion=entropy, clf__max_depth=4, clf__min_samples_leaf=0.1, clf__min_samples_split=0.05, clf__n_estimators=120; total time=   6.2s\n",
      "[CV] END clf__criterion=entropy, clf__max_depth=4, clf__min_samples_leaf=0.1, clf__min_samples_split=0.05, clf__n_estimators=120; total time=   6.5s\n",
      "[CV] END clf__criterion=entropy, clf__max_depth=4, clf__min_samples_leaf=0.1, clf__min_samples_split=0.1, clf__n_estimators=120; total time=   6.5s\n",
      "[CV] END clf__criterion=entropy, clf__max_depth=4, clf__min_samples_leaf=0.1, clf__min_samples_split=0.1, clf__n_estimators=120; total time=   6.4s\n",
      "[CV] END clf__criterion=entropy, clf__max_depth=4, clf__min_samples_leaf=0.1, clf__min_samples_split=0.1, clf__n_estimators=120; total time=   6.4s\n",
      "[CV] END clf__criterion=entropy, clf__max_depth=4, clf__min_samples_leaf=0.1, clf__min_samples_split=0.2, clf__n_estimators=120; total time=   6.5s\n",
      "[CV] END clf__criterion=entropy, clf__max_depth=4, clf__min_samples_leaf=0.1, clf__min_samples_split=0.2, clf__n_estimators=120; total time=   6.4s\n",
      "[CV] END clf__criterion=entropy, clf__max_depth=4, clf__min_samples_leaf=0.1, clf__min_samples_split=0.2, clf__n_estimators=120; total time=   6.9s\n",
      "[CV] END clf__criterion=entropy, clf__max_depth=4, clf__min_samples_leaf=0.2, clf__min_samples_split=0.05, clf__n_estimators=120; total time=   3.1s\n",
      "[CV] END clf__criterion=entropy, clf__max_depth=4, clf__min_samples_leaf=0.2, clf__min_samples_split=0.05, clf__n_estimators=120; total time=   3.0s\n",
      "[CV] END clf__criterion=entropy, clf__max_depth=4, clf__min_samples_leaf=0.2, clf__min_samples_split=0.05, clf__n_estimators=120; total time=   3.1s\n",
      "[CV] END clf__criterion=entropy, clf__max_depth=4, clf__min_samples_leaf=0.2, clf__min_samples_split=0.1, clf__n_estimators=120; total time=   3.1s\n",
      "[CV] END clf__criterion=entropy, clf__max_depth=4, clf__min_samples_leaf=0.2, clf__min_samples_split=0.1, clf__n_estimators=120; total time=   3.1s\n",
      "[CV] END clf__criterion=entropy, clf__max_depth=4, clf__min_samples_leaf=0.2, clf__min_samples_split=0.1, clf__n_estimators=120; total time=   3.2s\n",
      "[CV] END clf__criterion=entropy, clf__max_depth=4, clf__min_samples_leaf=0.2, clf__min_samples_split=0.2, clf__n_estimators=120; total time=   3.1s\n",
      "[CV] END clf__criterion=entropy, clf__max_depth=4, clf__min_samples_leaf=0.2, clf__min_samples_split=0.2, clf__n_estimators=120; total time=   3.0s\n",
      "[CV] END clf__criterion=entropy, clf__max_depth=4, clf__min_samples_leaf=0.2, clf__min_samples_split=0.2, clf__n_estimators=120; total time=   3.0s\n",
      "[CV] END clf__criterion=entropy, clf__max_depth=6, clf__min_samples_leaf=0.05, clf__min_samples_split=0.05, clf__n_estimators=120; total time=  10.1s\n"
     ]
    },
    {
     "name": "stdout",
     "output_type": "stream",
     "text": [
      "[CV] END clf__criterion=entropy, clf__max_depth=6, clf__min_samples_leaf=0.05, clf__min_samples_split=0.05, clf__n_estimators=120; total time=  10.1s\n",
      "[CV] END clf__criterion=entropy, clf__max_depth=6, clf__min_samples_leaf=0.05, clf__min_samples_split=0.05, clf__n_estimators=120; total time=  10.2s\n",
      "[CV] END clf__criterion=entropy, clf__max_depth=6, clf__min_samples_leaf=0.05, clf__min_samples_split=0.1, clf__n_estimators=120; total time=   9.9s\n",
      "[CV] END clf__criterion=entropy, clf__max_depth=6, clf__min_samples_leaf=0.05, clf__min_samples_split=0.1, clf__n_estimators=120; total time=  10.2s\n",
      "[CV] END clf__criterion=entropy, clf__max_depth=6, clf__min_samples_leaf=0.05, clf__min_samples_split=0.1, clf__n_estimators=120; total time=  10.6s\n",
      "[CV] END clf__criterion=entropy, clf__max_depth=6, clf__min_samples_leaf=0.05, clf__min_samples_split=0.2, clf__n_estimators=120; total time=   9.5s\n",
      "[CV] END clf__criterion=entropy, clf__max_depth=6, clf__min_samples_leaf=0.05, clf__min_samples_split=0.2, clf__n_estimators=120; total time=   8.9s\n",
      "[CV] END clf__criterion=entropy, clf__max_depth=6, clf__min_samples_leaf=0.05, clf__min_samples_split=0.2, clf__n_estimators=120; total time=   9.1s\n",
      "[CV] END clf__criterion=entropy, clf__max_depth=6, clf__min_samples_leaf=0.1, clf__min_samples_split=0.05, clf__n_estimators=120; total time=   6.5s\n",
      "[CV] END clf__criterion=entropy, clf__max_depth=6, clf__min_samples_leaf=0.1, clf__min_samples_split=0.05, clf__n_estimators=120; total time=   6.2s\n",
      "[CV] END clf__criterion=entropy, clf__max_depth=6, clf__min_samples_leaf=0.1, clf__min_samples_split=0.05, clf__n_estimators=120; total time=   6.4s\n",
      "[CV] END clf__criterion=entropy, clf__max_depth=6, clf__min_samples_leaf=0.1, clf__min_samples_split=0.1, clf__n_estimators=120; total time=   5.9s\n",
      "[CV] END clf__criterion=entropy, clf__max_depth=6, clf__min_samples_leaf=0.1, clf__min_samples_split=0.1, clf__n_estimators=120; total time=   6.0s\n",
      "[CV] END clf__criterion=entropy, clf__max_depth=6, clf__min_samples_leaf=0.1, clf__min_samples_split=0.1, clf__n_estimators=120; total time=   6.2s\n",
      "[CV] END clf__criterion=entropy, clf__max_depth=6, clf__min_samples_leaf=0.1, clf__min_samples_split=0.2, clf__n_estimators=120; total time=   6.0s\n",
      "[CV] END clf__criterion=entropy, clf__max_depth=6, clf__min_samples_leaf=0.1, clf__min_samples_split=0.2, clf__n_estimators=120; total time=   6.0s\n",
      "[CV] END clf__criterion=entropy, clf__max_depth=6, clf__min_samples_leaf=0.1, clf__min_samples_split=0.2, clf__n_estimators=120; total time=   6.1s\n",
      "[CV] END clf__criterion=entropy, clf__max_depth=6, clf__min_samples_leaf=0.2, clf__min_samples_split=0.05, clf__n_estimators=120; total time=   3.1s\n",
      "[CV] END clf__criterion=entropy, clf__max_depth=6, clf__min_samples_leaf=0.2, clf__min_samples_split=0.05, clf__n_estimators=120; total time=   2.9s\n",
      "[CV] END clf__criterion=entropy, clf__max_depth=6, clf__min_samples_leaf=0.2, clf__min_samples_split=0.05, clf__n_estimators=120; total time=   2.9s\n",
      "[CV] END clf__criterion=entropy, clf__max_depth=6, clf__min_samples_leaf=0.2, clf__min_samples_split=0.1, clf__n_estimators=120; total time=   3.0s\n",
      "[CV] END clf__criterion=entropy, clf__max_depth=6, clf__min_samples_leaf=0.2, clf__min_samples_split=0.1, clf__n_estimators=120; total time=   2.9s\n",
      "[CV] END clf__criterion=entropy, clf__max_depth=6, clf__min_samples_leaf=0.2, clf__min_samples_split=0.1, clf__n_estimators=120; total time=   3.0s\n",
      "[CV] END clf__criterion=entropy, clf__max_depth=6, clf__min_samples_leaf=0.2, clf__min_samples_split=0.2, clf__n_estimators=120; total time=   3.1s\n",
      "[CV] END clf__criterion=entropy, clf__max_depth=6, clf__min_samples_leaf=0.2, clf__min_samples_split=0.2, clf__n_estimators=120; total time=   3.0s\n",
      "[CV] END clf__criterion=entropy, clf__max_depth=6, clf__min_samples_leaf=0.2, clf__min_samples_split=0.2, clf__n_estimators=120; total time=   3.0s\n",
      "[CV] END clf__criterion=gini, clf__max_depth=2, clf__min_samples_leaf=0.05, clf__min_samples_split=0.05, clf__n_estimators=120; total time=   3.2s\n",
      "[CV] END clf__criterion=gini, clf__max_depth=2, clf__min_samples_leaf=0.05, clf__min_samples_split=0.05, clf__n_estimators=120; total time=   3.3s\n",
      "[CV] END clf__criterion=gini, clf__max_depth=2, clf__min_samples_leaf=0.05, clf__min_samples_split=0.05, clf__n_estimators=120; total time=   3.4s\n",
      "[CV] END clf__criterion=gini, clf__max_depth=2, clf__min_samples_leaf=0.05, clf__min_samples_split=0.1, clf__n_estimators=120; total time=   3.4s\n",
      "[CV] END clf__criterion=gini, clf__max_depth=2, clf__min_samples_leaf=0.05, clf__min_samples_split=0.1, clf__n_estimators=120; total time=   3.3s\n",
      "[CV] END clf__criterion=gini, clf__max_depth=2, clf__min_samples_leaf=0.05, clf__min_samples_split=0.1, clf__n_estimators=120; total time=   3.3s\n",
      "[CV] END clf__criterion=gini, clf__max_depth=2, clf__min_samples_leaf=0.05, clf__min_samples_split=0.2, clf__n_estimators=120; total time=   3.0s\n",
      "[CV] END clf__criterion=gini, clf__max_depth=2, clf__min_samples_leaf=0.05, clf__min_samples_split=0.2, clf__n_estimators=120; total time=   3.2s\n",
      "[CV] END clf__criterion=gini, clf__max_depth=2, clf__min_samples_leaf=0.05, clf__min_samples_split=0.2, clf__n_estimators=120; total time=   3.1s\n",
      "[CV] END clf__criterion=gini, clf__max_depth=2, clf__min_samples_leaf=0.1, clf__min_samples_split=0.05, clf__n_estimators=120; total time=   3.0s\n",
      "[CV] END clf__criterion=gini, clf__max_depth=2, clf__min_samples_leaf=0.1, clf__min_samples_split=0.05, clf__n_estimators=120; total time=   3.0s\n",
      "[CV] END clf__criterion=gini, clf__max_depth=2, clf__min_samples_leaf=0.1, clf__min_samples_split=0.05, clf__n_estimators=120; total time=   2.8s\n",
      "[CV] END clf__criterion=gini, clf__max_depth=2, clf__min_samples_leaf=0.1, clf__min_samples_split=0.1, clf__n_estimators=120; total time=   2.8s\n",
      "[CV] END clf__criterion=gini, clf__max_depth=2, clf__min_samples_leaf=0.1, clf__min_samples_split=0.1, clf__n_estimators=120; total time=   2.9s\n",
      "[CV] END clf__criterion=gini, clf__max_depth=2, clf__min_samples_leaf=0.1, clf__min_samples_split=0.1, clf__n_estimators=120; total time=   2.9s\n",
      "[CV] END clf__criterion=gini, clf__max_depth=2, clf__min_samples_leaf=0.1, clf__min_samples_split=0.2, clf__n_estimators=120; total time=   2.9s\n",
      "[CV] END clf__criterion=gini, clf__max_depth=2, clf__min_samples_leaf=0.1, clf__min_samples_split=0.2, clf__n_estimators=120; total time=   2.7s\n",
      "[CV] END clf__criterion=gini, clf__max_depth=2, clf__min_samples_leaf=0.1, clf__min_samples_split=0.2, clf__n_estimators=120; total time=   2.9s\n",
      "[CV] END clf__criterion=gini, clf__max_depth=2, clf__min_samples_leaf=0.2, clf__min_samples_split=0.05, clf__n_estimators=120; total time=   2.4s\n",
      "[CV] END clf__criterion=gini, clf__max_depth=2, clf__min_samples_leaf=0.2, clf__min_samples_split=0.05, clf__n_estimators=120; total time=   2.3s\n",
      "[CV] END clf__criterion=gini, clf__max_depth=2, clf__min_samples_leaf=0.2, clf__min_samples_split=0.05, clf__n_estimators=120; total time=   2.4s\n",
      "[CV] END clf__criterion=gini, clf__max_depth=2, clf__min_samples_leaf=0.2, clf__min_samples_split=0.1, clf__n_estimators=120; total time=   2.8s\n",
      "[CV] END clf__criterion=gini, clf__max_depth=2, clf__min_samples_leaf=0.2, clf__min_samples_split=0.1, clf__n_estimators=120; total time=   2.5s\n",
      "[CV] END clf__criterion=gini, clf__max_depth=2, clf__min_samples_leaf=0.2, clf__min_samples_split=0.1, clf__n_estimators=120; total time=   2.4s\n",
      "[CV] END clf__criterion=gini, clf__max_depth=2, clf__min_samples_leaf=0.2, clf__min_samples_split=0.2, clf__n_estimators=120; total time=   2.4s\n",
      "[CV] END clf__criterion=gini, clf__max_depth=2, clf__min_samples_leaf=0.2, clf__min_samples_split=0.2, clf__n_estimators=120; total time=   2.3s\n",
      "[CV] END clf__criterion=gini, clf__max_depth=2, clf__min_samples_leaf=0.2, clf__min_samples_split=0.2, clf__n_estimators=120; total time=   2.8s\n",
      "[CV] END clf__criterion=gini, clf__max_depth=4, clf__min_samples_leaf=0.05, clf__min_samples_split=0.05, clf__n_estimators=120; total time=   4.9s\n",
      "[CV] END clf__criterion=gini, clf__max_depth=4, clf__min_samples_leaf=0.05, clf__min_samples_split=0.05, clf__n_estimators=120; total time=   4.6s\n",
      "[CV] END clf__criterion=gini, clf__max_depth=4, clf__min_samples_leaf=0.05, clf__min_samples_split=0.05, clf__n_estimators=120; total time=   4.7s\n"
     ]
    },
    {
     "name": "stdout",
     "output_type": "stream",
     "text": [
      "[CV] END clf__criterion=gini, clf__max_depth=4, clf__min_samples_leaf=0.05, clf__min_samples_split=0.1, clf__n_estimators=120; total time=   4.5s\n",
      "[CV] END clf__criterion=gini, clf__max_depth=4, clf__min_samples_leaf=0.05, clf__min_samples_split=0.1, clf__n_estimators=120; total time=   4.6s\n",
      "[CV] END clf__criterion=gini, clf__max_depth=4, clf__min_samples_leaf=0.05, clf__min_samples_split=0.1, clf__n_estimators=120; total time=   4.4s\n",
      "[CV] END clf__criterion=gini, clf__max_depth=4, clf__min_samples_leaf=0.05, clf__min_samples_split=0.2, clf__n_estimators=120; total time=   4.1s\n",
      "[CV] END clf__criterion=gini, clf__max_depth=4, clf__min_samples_leaf=0.05, clf__min_samples_split=0.2, clf__n_estimators=120; total time=   4.0s\n",
      "[CV] END clf__criterion=gini, clf__max_depth=4, clf__min_samples_leaf=0.05, clf__min_samples_split=0.2, clf__n_estimators=120; total time=   4.9s\n",
      "[CV] END clf__criterion=gini, clf__max_depth=4, clf__min_samples_leaf=0.1, clf__min_samples_split=0.05, clf__n_estimators=120; total time=   3.4s\n",
      "[CV] END clf__criterion=gini, clf__max_depth=4, clf__min_samples_leaf=0.1, clf__min_samples_split=0.05, clf__n_estimators=120; total time=   3.3s\n",
      "[CV] END clf__criterion=gini, clf__max_depth=4, clf__min_samples_leaf=0.1, clf__min_samples_split=0.05, clf__n_estimators=120; total time=   3.4s\n",
      "[CV] END clf__criterion=gini, clf__max_depth=4, clf__min_samples_leaf=0.1, clf__min_samples_split=0.1, clf__n_estimators=120; total time=   3.6s\n",
      "[CV] END clf__criterion=gini, clf__max_depth=4, clf__min_samples_leaf=0.1, clf__min_samples_split=0.1, clf__n_estimators=120; total time=   3.6s\n",
      "[CV] END clf__criterion=gini, clf__max_depth=4, clf__min_samples_leaf=0.1, clf__min_samples_split=0.1, clf__n_estimators=120; total time=   3.7s\n",
      "[CV] END clf__criterion=gini, clf__max_depth=4, clf__min_samples_leaf=0.1, clf__min_samples_split=0.2, clf__n_estimators=120; total time=   3.5s\n",
      "[CV] END clf__criterion=gini, clf__max_depth=4, clf__min_samples_leaf=0.1, clf__min_samples_split=0.2, clf__n_estimators=120; total time=   3.5s\n",
      "[CV] END clf__criterion=gini, clf__max_depth=4, clf__min_samples_leaf=0.1, clf__min_samples_split=0.2, clf__n_estimators=120; total time=   3.7s\n",
      "[CV] END clf__criterion=gini, clf__max_depth=4, clf__min_samples_leaf=0.2, clf__min_samples_split=0.05, clf__n_estimators=120; total time=   2.4s\n",
      "[CV] END clf__criterion=gini, clf__max_depth=4, clf__min_samples_leaf=0.2, clf__min_samples_split=0.05, clf__n_estimators=120; total time=   2.5s\n",
      "[CV] END clf__criterion=gini, clf__max_depth=4, clf__min_samples_leaf=0.2, clf__min_samples_split=0.05, clf__n_estimators=120; total time=   2.3s\n",
      "[CV] END clf__criterion=gini, clf__max_depth=4, clf__min_samples_leaf=0.2, clf__min_samples_split=0.1, clf__n_estimators=120; total time=   2.4s\n",
      "[CV] END clf__criterion=gini, clf__max_depth=4, clf__min_samples_leaf=0.2, clf__min_samples_split=0.1, clf__n_estimators=120; total time=   2.2s\n",
      "[CV] END clf__criterion=gini, clf__max_depth=4, clf__min_samples_leaf=0.2, clf__min_samples_split=0.1, clf__n_estimators=120; total time=   2.3s\n",
      "[CV] END clf__criterion=gini, clf__max_depth=4, clf__min_samples_leaf=0.2, clf__min_samples_split=0.2, clf__n_estimators=120; total time=   2.4s\n",
      "[CV] END clf__criterion=gini, clf__max_depth=4, clf__min_samples_leaf=0.2, clf__min_samples_split=0.2, clf__n_estimators=120; total time=   2.4s\n",
      "[CV] END clf__criterion=gini, clf__max_depth=4, clf__min_samples_leaf=0.2, clf__min_samples_split=0.2, clf__n_estimators=120; total time=   2.5s\n",
      "[CV] END clf__criterion=gini, clf__max_depth=6, clf__min_samples_leaf=0.05, clf__min_samples_split=0.05, clf__n_estimators=120; total time=   5.5s\n",
      "[CV] END clf__criterion=gini, clf__max_depth=6, clf__min_samples_leaf=0.05, clf__min_samples_split=0.05, clf__n_estimators=120; total time=   5.5s\n",
      "[CV] END clf__criterion=gini, clf__max_depth=6, clf__min_samples_leaf=0.05, clf__min_samples_split=0.05, clf__n_estimators=120; total time=   5.5s\n",
      "[CV] END clf__criterion=gini, clf__max_depth=6, clf__min_samples_leaf=0.05, clf__min_samples_split=0.1, clf__n_estimators=120; total time=   5.5s\n",
      "[CV] END clf__criterion=gini, clf__max_depth=6, clf__min_samples_leaf=0.05, clf__min_samples_split=0.1, clf__n_estimators=120; total time=   5.1s\n",
      "[CV] END clf__criterion=gini, clf__max_depth=6, clf__min_samples_leaf=0.05, clf__min_samples_split=0.1, clf__n_estimators=120; total time=   5.0s\n",
      "[CV] END clf__criterion=gini, clf__max_depth=6, clf__min_samples_leaf=0.05, clf__min_samples_split=0.2, clf__n_estimators=120; total time=   4.2s\n",
      "[CV] END clf__criterion=gini, clf__max_depth=6, clf__min_samples_leaf=0.05, clf__min_samples_split=0.2, clf__n_estimators=120; total time=   4.1s\n",
      "[CV] END clf__criterion=gini, clf__max_depth=6, clf__min_samples_leaf=0.05, clf__min_samples_split=0.2, clf__n_estimators=120; total time=   4.5s\n",
      "[CV] END clf__criterion=gini, clf__max_depth=6, clf__min_samples_leaf=0.1, clf__min_samples_split=0.05, clf__n_estimators=120; total time=   3.7s\n",
      "[CV] END clf__criterion=gini, clf__max_depth=6, clf__min_samples_leaf=0.1, clf__min_samples_split=0.05, clf__n_estimators=120; total time=   3.5s\n",
      "[CV] END clf__criterion=gini, clf__max_depth=6, clf__min_samples_leaf=0.1, clf__min_samples_split=0.05, clf__n_estimators=120; total time=   3.9s\n",
      "[CV] END clf__criterion=gini, clf__max_depth=6, clf__min_samples_leaf=0.1, clf__min_samples_split=0.1, clf__n_estimators=120; total time=   3.7s\n",
      "[CV] END clf__criterion=gini, clf__max_depth=6, clf__min_samples_leaf=0.1, clf__min_samples_split=0.1, clf__n_estimators=120; total time=   3.8s\n",
      "[CV] END clf__criterion=gini, clf__max_depth=6, clf__min_samples_leaf=0.1, clf__min_samples_split=0.1, clf__n_estimators=120; total time=   3.6s\n",
      "[CV] END clf__criterion=gini, clf__max_depth=6, clf__min_samples_leaf=0.1, clf__min_samples_split=0.2, clf__n_estimators=120; total time=   3.5s\n",
      "[CV] END clf__criterion=gini, clf__max_depth=6, clf__min_samples_leaf=0.1, clf__min_samples_split=0.2, clf__n_estimators=120; total time=   3.4s\n",
      "[CV] END clf__criterion=gini, clf__max_depth=6, clf__min_samples_leaf=0.1, clf__min_samples_split=0.2, clf__n_estimators=120; total time=   3.5s\n",
      "[CV] END clf__criterion=gini, clf__max_depth=6, clf__min_samples_leaf=0.2, clf__min_samples_split=0.05, clf__n_estimators=120; total time=   2.6s\n",
      "[CV] END clf__criterion=gini, clf__max_depth=6, clf__min_samples_leaf=0.2, clf__min_samples_split=0.05, clf__n_estimators=120; total time=   2.4s\n",
      "[CV] END clf__criterion=gini, clf__max_depth=6, clf__min_samples_leaf=0.2, clf__min_samples_split=0.05, clf__n_estimators=120; total time=   2.7s\n",
      "[CV] END clf__criterion=gini, clf__max_depth=6, clf__min_samples_leaf=0.2, clf__min_samples_split=0.1, clf__n_estimators=120; total time=   2.4s\n",
      "[CV] END clf__criterion=gini, clf__max_depth=6, clf__min_samples_leaf=0.2, clf__min_samples_split=0.1, clf__n_estimators=120; total time=   2.2s\n",
      "[CV] END clf__criterion=gini, clf__max_depth=6, clf__min_samples_leaf=0.2, clf__min_samples_split=0.1, clf__n_estimators=120; total time=   2.5s\n",
      "[CV] END clf__criterion=gini, clf__max_depth=6, clf__min_samples_leaf=0.2, clf__min_samples_split=0.2, clf__n_estimators=120; total time=   2.2s\n",
      "[CV] END clf__criterion=gini, clf__max_depth=6, clf__min_samples_leaf=0.2, clf__min_samples_split=0.2, clf__n_estimators=120; total time=   2.2s\n",
      "[CV] END clf__criterion=gini, clf__max_depth=6, clf__min_samples_leaf=0.2, clf__min_samples_split=0.2, clf__n_estimators=120; total time=   2.4s\n"
     ]
    },
    {
     "data": {
      "text/plain": [
       "GridSearchCV(cv=3,\n",
       "             estimator=Pipeline(steps=[('pca',\n",
       "                                        PCA(n_components=27, random_state=123)),\n",
       "                                       ('clf',\n",
       "                                        RandomForestClassifier(random_state=123))]),\n",
       "             param_grid=[{'clf__criterion': ['entropy', 'gini'],\n",
       "                          'clf__max_depth': [2, 4, 6],\n",
       "                          'clf__min_samples_leaf': [0.05, 0.1, 0.2],\n",
       "                          'clf__min_samples_split': [0.05, 0.1, 0.2],\n",
       "                          'clf__n_estimators': [120]}],\n",
       "             return_train_score=True, scoring='accuracy', verbose=2)"
      ]
     },
     "execution_count": 25,
     "metadata": {},
     "output_type": "execute_result"
    }
   ],
   "source": [
    "param_grid = [{'clf__n_estimators': [120],\n",
    "              'clf__criterion': ['entropy', 'gini'],\n",
    "              'clf__max_depth': [2, 4, 6],\n",
    "              'clf__min_samples_leaf': [0.05, 0.1, 0.2],\n",
    "              'clf__min_samples_split': [0.05, 0.1, 0.2]}]\n",
    "gs_rf = GridSearchCV(estimator=pipeline_rf, param_grid=param_grid, scoring='accuracy', cv=3, verbose=2, return_train_score=True)\n",
    "gs_rf.fit(X_train, y_train)\n"
   ]
  },
  {
   "cell_type": "code",
   "execution_count": 26,
   "metadata": {},
   "outputs": [
    {
     "data": {
      "text/plain": [
       "{'clf__criterion': 'entropy',\n",
       " 'clf__max_depth': 6,\n",
       " 'clf__min_samples_leaf': 0.05,\n",
       " 'clf__min_samples_split': 0.05,\n",
       " 'clf__n_estimators': 120}"
      ]
     },
     "execution_count": 26,
     "metadata": {},
     "output_type": "execute_result"
    }
   ],
   "source": [
    "# Your code here\n",
    "# ⏰ This cell may take a long time to run!\n",
    "gs_rf.best_params_"
   ]
  },
  {
   "cell_type": "code",
   "execution_count": 28,
   "metadata": {},
   "outputs": [
    {
     "data": {
      "text/plain": [
       "0.6230943522708229"
      ]
     },
     "execution_count": 28,
     "metadata": {},
     "output_type": "execute_result"
    }
   ],
   "source": [
    "gs_rf.best_score_"
   ]
  },
  {
   "cell_type": "markdown",
   "metadata": {},
   "source": [
    "Use your grid search object along with `.cv_results` to get the full result overview"
   ]
  },
  {
   "cell_type": "code",
   "execution_count": 31,
   "metadata": {},
   "outputs": [
    {
     "data": {
      "text/plain": [
       "{'mean_fit_time': array([ 6.69705367,  6.72371618,  6.68103155,  5.36536543,  5.41345898,\n",
       "         5.59910615,  2.93205031,  2.87432321,  2.85842681,  9.45864089,\n",
       "         9.23105256,  8.43429788,  6.10998567,  6.24861328,  6.39973466,\n",
       "         2.91036399,  2.97519175,  2.90597995,  9.96317577, 10.04804977,\n",
       "         8.99482131,  6.16635982,  5.87325231,  5.84788465,  2.83003569,\n",
       "         2.8134164 ,  2.86243169,  3.13930996,  3.14895797,  2.94600868,\n",
       "         2.78243057,  2.70477804,  2.71225349,  2.20944365,  2.40858126,\n",
       "         2.34411168,  4.55024441,  4.33977977,  4.14739998,  3.23127786,\n",
       "         3.45793494,  3.39184801,  2.23764261,  2.14838942,  2.29118196,\n",
       "         5.23378698,  5.03275625,  4.09161766,  3.50925231,  3.54514647,\n",
       "         3.29854727,  2.39048028,  2.20098964,  2.11150638]),\n",
       " 'std_fit_time': array([0.06766618, 0.1943482 , 0.36311716, 0.20321358, 0.2523794 ,\n",
       "        0.159416  , 0.13579824, 0.02376526, 0.03100547, 0.16304183,\n",
       "        0.0748824 , 0.33511385, 0.13393611, 0.03984645, 0.25002805,\n",
       "        0.07217497, 0.04311215, 0.06338409, 0.06635174, 0.27501271,\n",
       "        0.26213848, 0.12176937, 0.09688329, 0.03906682, 0.08437386,\n",
       "        0.03544389, 0.04332867, 0.09876029, 0.08407792, 0.07727523,\n",
       "        0.08551348, 0.01306767, 0.0835026 , 0.05020542, 0.15488354,\n",
       "        0.19608188, 0.12287927, 0.09069443, 0.39176805, 0.03290469,\n",
       "        0.02341442, 0.08826268, 0.09617765, 0.06386884, 0.06777701,\n",
       "        0.0839053 , 0.19112537, 0.147318  , 0.13569289, 0.07395322,\n",
       "        0.03896935, 0.08643947, 0.07654414, 0.07280543]),\n",
       " 'mean_score_time': array([0.16654857, 0.15692377, 0.157962  , 0.15527892, 0.16952904,\n",
       "        0.2053767 , 0.14822706, 0.14821506, 0.14642866, 0.19381905,\n",
       "        0.16469908, 0.1592114 , 0.16480859, 0.17477655, 0.20138176,\n",
       "        0.14773258, 0.16562231, 0.14965558, 0.17320283, 0.17325974,\n",
       "        0.17836237, 0.16279101, 0.15362223, 0.16016865, 0.14475298,\n",
       "        0.15095258, 0.15083742, 0.16470067, 0.16441456, 0.15810569,\n",
       "        0.15269836, 0.15692727, 0.1516699 , 0.15801462, 0.17819683,\n",
       "        0.15864301, 0.1680886 , 0.16463693, 0.15755328, 0.15844043,\n",
       "        0.1724143 , 0.16670998, 0.15679312, 0.16279093, 0.17350539,\n",
       "        0.25492271, 0.177737  , 0.16320968, 0.17916544, 0.17325091,\n",
       "        0.16454633, 0.1664509 , 0.16639177, 0.15110771]),\n",
       " 'std_score_time': array([0.01037389, 0.0014895 , 0.00727014, 0.00293626, 0.00118077,\n",
       "        0.05536495, 0.00151922, 0.00093844, 0.00059278, 0.04205892,\n",
       "        0.00120036, 0.00420732, 0.00861283, 0.01059031, 0.02824556,\n",
       "        0.00317065, 0.01312188, 0.00245054, 0.00231425, 0.00376322,\n",
       "        0.01183032, 0.0072818 , 0.00053731, 0.00585776, 0.00103303,\n",
       "        0.00530452, 0.00162834, 0.01052812, 0.00511768, 0.00910091,\n",
       "        0.00587756, 0.00676075, 0.00272735, 0.00887523, 0.01691958,\n",
       "        0.00722432, 0.0067956 , 0.00343905, 0.00411557, 0.00562692,\n",
       "        0.0076058 , 0.00466568, 0.00818702, 0.00537374, 0.01227446,\n",
       "        0.05395219, 0.00615646, 0.00245555, 0.01573277, 0.0159193 ,\n",
       "        0.00516984, 0.00932373, 0.02199796, 0.00326558]),\n",
       " 'param_clf__criterion': masked_array(data=['entropy', 'entropy', 'entropy', 'entropy', 'entropy',\n",
       "                    'entropy', 'entropy', 'entropy', 'entropy', 'entropy',\n",
       "                    'entropy', 'entropy', 'entropy', 'entropy', 'entropy',\n",
       "                    'entropy', 'entropy', 'entropy', 'entropy', 'entropy',\n",
       "                    'entropy', 'entropy', 'entropy', 'entropy', 'entropy',\n",
       "                    'entropy', 'entropy', 'gini', 'gini', 'gini', 'gini',\n",
       "                    'gini', 'gini', 'gini', 'gini', 'gini', 'gini', 'gini',\n",
       "                    'gini', 'gini', 'gini', 'gini', 'gini', 'gini', 'gini',\n",
       "                    'gini', 'gini', 'gini', 'gini', 'gini', 'gini', 'gini',\n",
       "                    'gini', 'gini'],\n",
       "              mask=[False, False, False, False, False, False, False, False,\n",
       "                    False, False, False, False, False, False, False, False,\n",
       "                    False, False, False, False, False, False, False, False,\n",
       "                    False, False, False, False, False, False, False, False,\n",
       "                    False, False, False, False, False, False, False, False,\n",
       "                    False, False, False, False, False, False, False, False,\n",
       "                    False, False, False, False, False, False],\n",
       "        fill_value='?',\n",
       "             dtype=object),\n",
       " 'param_clf__max_depth': masked_array(data=[2, 2, 2, 2, 2, 2, 2, 2, 2, 4, 4, 4, 4, 4, 4, 4, 4, 4,\n",
       "                    6, 6, 6, 6, 6, 6, 6, 6, 6, 2, 2, 2, 2, 2, 2, 2, 2, 2,\n",
       "                    4, 4, 4, 4, 4, 4, 4, 4, 4, 6, 6, 6, 6, 6, 6, 6, 6, 6],\n",
       "              mask=[False, False, False, False, False, False, False, False,\n",
       "                    False, False, False, False, False, False, False, False,\n",
       "                    False, False, False, False, False, False, False, False,\n",
       "                    False, False, False, False, False, False, False, False,\n",
       "                    False, False, False, False, False, False, False, False,\n",
       "                    False, False, False, False, False, False, False, False,\n",
       "                    False, False, False, False, False, False],\n",
       "        fill_value='?',\n",
       "             dtype=object),\n",
       " 'param_clf__min_samples_leaf': masked_array(data=[0.05, 0.05, 0.05, 0.1, 0.1, 0.1, 0.2, 0.2, 0.2, 0.05,\n",
       "                    0.05, 0.05, 0.1, 0.1, 0.1, 0.2, 0.2, 0.2, 0.05, 0.05,\n",
       "                    0.05, 0.1, 0.1, 0.1, 0.2, 0.2, 0.2, 0.05, 0.05, 0.05,\n",
       "                    0.1, 0.1, 0.1, 0.2, 0.2, 0.2, 0.05, 0.05, 0.05, 0.1,\n",
       "                    0.1, 0.1, 0.2, 0.2, 0.2, 0.05, 0.05, 0.05, 0.1, 0.1,\n",
       "                    0.1, 0.2, 0.2, 0.2],\n",
       "              mask=[False, False, False, False, False, False, False, False,\n",
       "                    False, False, False, False, False, False, False, False,\n",
       "                    False, False, False, False, False, False, False, False,\n",
       "                    False, False, False, False, False, False, False, False,\n",
       "                    False, False, False, False, False, False, False, False,\n",
       "                    False, False, False, False, False, False, False, False,\n",
       "                    False, False, False, False, False, False],\n",
       "        fill_value='?',\n",
       "             dtype=object),\n",
       " 'param_clf__min_samples_split': masked_array(data=[0.05, 0.1, 0.2, 0.05, 0.1, 0.2, 0.05, 0.1, 0.2, 0.05,\n",
       "                    0.1, 0.2, 0.05, 0.1, 0.2, 0.05, 0.1, 0.2, 0.05, 0.1,\n",
       "                    0.2, 0.05, 0.1, 0.2, 0.05, 0.1, 0.2, 0.05, 0.1, 0.2,\n",
       "                    0.05, 0.1, 0.2, 0.05, 0.1, 0.2, 0.05, 0.1, 0.2, 0.05,\n",
       "                    0.1, 0.2, 0.05, 0.1, 0.2, 0.05, 0.1, 0.2, 0.05, 0.1,\n",
       "                    0.2, 0.05, 0.1, 0.2],\n",
       "              mask=[False, False, False, False, False, False, False, False,\n",
       "                    False, False, False, False, False, False, False, False,\n",
       "                    False, False, False, False, False, False, False, False,\n",
       "                    False, False, False, False, False, False, False, False,\n",
       "                    False, False, False, False, False, False, False, False,\n",
       "                    False, False, False, False, False, False, False, False,\n",
       "                    False, False, False, False, False, False],\n",
       "        fill_value='?',\n",
       "             dtype=object),\n",
       " 'param_clf__n_estimators': masked_array(data=[120, 120, 120, 120, 120, 120, 120, 120, 120, 120, 120,\n",
       "                    120, 120, 120, 120, 120, 120, 120, 120, 120, 120, 120,\n",
       "                    120, 120, 120, 120, 120, 120, 120, 120, 120, 120, 120,\n",
       "                    120, 120, 120, 120, 120, 120, 120, 120, 120, 120, 120,\n",
       "                    120, 120, 120, 120, 120, 120, 120, 120, 120, 120],\n",
       "              mask=[False, False, False, False, False, False, False, False,\n",
       "                    False, False, False, False, False, False, False, False,\n",
       "                    False, False, False, False, False, False, False, False,\n",
       "                    False, False, False, False, False, False, False, False,\n",
       "                    False, False, False, False, False, False, False, False,\n",
       "                    False, False, False, False, False, False, False, False,\n",
       "                    False, False, False, False, False, False],\n",
       "        fill_value='?',\n",
       "             dtype=object),\n",
       " 'params': [{'clf__criterion': 'entropy',\n",
       "   'clf__max_depth': 2,\n",
       "   'clf__min_samples_leaf': 0.05,\n",
       "   'clf__min_samples_split': 0.05,\n",
       "   'clf__n_estimators': 120},\n",
       "  {'clf__criterion': 'entropy',\n",
       "   'clf__max_depth': 2,\n",
       "   'clf__min_samples_leaf': 0.05,\n",
       "   'clf__min_samples_split': 0.1,\n",
       "   'clf__n_estimators': 120},\n",
       "  {'clf__criterion': 'entropy',\n",
       "   'clf__max_depth': 2,\n",
       "   'clf__min_samples_leaf': 0.05,\n",
       "   'clf__min_samples_split': 0.2,\n",
       "   'clf__n_estimators': 120},\n",
       "  {'clf__criterion': 'entropy',\n",
       "   'clf__max_depth': 2,\n",
       "   'clf__min_samples_leaf': 0.1,\n",
       "   'clf__min_samples_split': 0.05,\n",
       "   'clf__n_estimators': 120},\n",
       "  {'clf__criterion': 'entropy',\n",
       "   'clf__max_depth': 2,\n",
       "   'clf__min_samples_leaf': 0.1,\n",
       "   'clf__min_samples_split': 0.1,\n",
       "   'clf__n_estimators': 120},\n",
       "  {'clf__criterion': 'entropy',\n",
       "   'clf__max_depth': 2,\n",
       "   'clf__min_samples_leaf': 0.1,\n",
       "   'clf__min_samples_split': 0.2,\n",
       "   'clf__n_estimators': 120},\n",
       "  {'clf__criterion': 'entropy',\n",
       "   'clf__max_depth': 2,\n",
       "   'clf__min_samples_leaf': 0.2,\n",
       "   'clf__min_samples_split': 0.05,\n",
       "   'clf__n_estimators': 120},\n",
       "  {'clf__criterion': 'entropy',\n",
       "   'clf__max_depth': 2,\n",
       "   'clf__min_samples_leaf': 0.2,\n",
       "   'clf__min_samples_split': 0.1,\n",
       "   'clf__n_estimators': 120},\n",
       "  {'clf__criterion': 'entropy',\n",
       "   'clf__max_depth': 2,\n",
       "   'clf__min_samples_leaf': 0.2,\n",
       "   'clf__min_samples_split': 0.2,\n",
       "   'clf__n_estimators': 120},\n",
       "  {'clf__criterion': 'entropy',\n",
       "   'clf__max_depth': 4,\n",
       "   'clf__min_samples_leaf': 0.05,\n",
       "   'clf__min_samples_split': 0.05,\n",
       "   'clf__n_estimators': 120},\n",
       "  {'clf__criterion': 'entropy',\n",
       "   'clf__max_depth': 4,\n",
       "   'clf__min_samples_leaf': 0.05,\n",
       "   'clf__min_samples_split': 0.1,\n",
       "   'clf__n_estimators': 120},\n",
       "  {'clf__criterion': 'entropy',\n",
       "   'clf__max_depth': 4,\n",
       "   'clf__min_samples_leaf': 0.05,\n",
       "   'clf__min_samples_split': 0.2,\n",
       "   'clf__n_estimators': 120},\n",
       "  {'clf__criterion': 'entropy',\n",
       "   'clf__max_depth': 4,\n",
       "   'clf__min_samples_leaf': 0.1,\n",
       "   'clf__min_samples_split': 0.05,\n",
       "   'clf__n_estimators': 120},\n",
       "  {'clf__criterion': 'entropy',\n",
       "   'clf__max_depth': 4,\n",
       "   'clf__min_samples_leaf': 0.1,\n",
       "   'clf__min_samples_split': 0.1,\n",
       "   'clf__n_estimators': 120},\n",
       "  {'clf__criterion': 'entropy',\n",
       "   'clf__max_depth': 4,\n",
       "   'clf__min_samples_leaf': 0.1,\n",
       "   'clf__min_samples_split': 0.2,\n",
       "   'clf__n_estimators': 120},\n",
       "  {'clf__criterion': 'entropy',\n",
       "   'clf__max_depth': 4,\n",
       "   'clf__min_samples_leaf': 0.2,\n",
       "   'clf__min_samples_split': 0.05,\n",
       "   'clf__n_estimators': 120},\n",
       "  {'clf__criterion': 'entropy',\n",
       "   'clf__max_depth': 4,\n",
       "   'clf__min_samples_leaf': 0.2,\n",
       "   'clf__min_samples_split': 0.1,\n",
       "   'clf__n_estimators': 120},\n",
       "  {'clf__criterion': 'entropy',\n",
       "   'clf__max_depth': 4,\n",
       "   'clf__min_samples_leaf': 0.2,\n",
       "   'clf__min_samples_split': 0.2,\n",
       "   'clf__n_estimators': 120},\n",
       "  {'clf__criterion': 'entropy',\n",
       "   'clf__max_depth': 6,\n",
       "   'clf__min_samples_leaf': 0.05,\n",
       "   'clf__min_samples_split': 0.05,\n",
       "   'clf__n_estimators': 120},\n",
       "  {'clf__criterion': 'entropy',\n",
       "   'clf__max_depth': 6,\n",
       "   'clf__min_samples_leaf': 0.05,\n",
       "   'clf__min_samples_split': 0.1,\n",
       "   'clf__n_estimators': 120},\n",
       "  {'clf__criterion': 'entropy',\n",
       "   'clf__max_depth': 6,\n",
       "   'clf__min_samples_leaf': 0.05,\n",
       "   'clf__min_samples_split': 0.2,\n",
       "   'clf__n_estimators': 120},\n",
       "  {'clf__criterion': 'entropy',\n",
       "   'clf__max_depth': 6,\n",
       "   'clf__min_samples_leaf': 0.1,\n",
       "   'clf__min_samples_split': 0.05,\n",
       "   'clf__n_estimators': 120},\n",
       "  {'clf__criterion': 'entropy',\n",
       "   'clf__max_depth': 6,\n",
       "   'clf__min_samples_leaf': 0.1,\n",
       "   'clf__min_samples_split': 0.1,\n",
       "   'clf__n_estimators': 120},\n",
       "  {'clf__criterion': 'entropy',\n",
       "   'clf__max_depth': 6,\n",
       "   'clf__min_samples_leaf': 0.1,\n",
       "   'clf__min_samples_split': 0.2,\n",
       "   'clf__n_estimators': 120},\n",
       "  {'clf__criterion': 'entropy',\n",
       "   'clf__max_depth': 6,\n",
       "   'clf__min_samples_leaf': 0.2,\n",
       "   'clf__min_samples_split': 0.05,\n",
       "   'clf__n_estimators': 120},\n",
       "  {'clf__criterion': 'entropy',\n",
       "   'clf__max_depth': 6,\n",
       "   'clf__min_samples_leaf': 0.2,\n",
       "   'clf__min_samples_split': 0.1,\n",
       "   'clf__n_estimators': 120},\n",
       "  {'clf__criterion': 'entropy',\n",
       "   'clf__max_depth': 6,\n",
       "   'clf__min_samples_leaf': 0.2,\n",
       "   'clf__min_samples_split': 0.2,\n",
       "   'clf__n_estimators': 120},\n",
       "  {'clf__criterion': 'gini',\n",
       "   'clf__max_depth': 2,\n",
       "   'clf__min_samples_leaf': 0.05,\n",
       "   'clf__min_samples_split': 0.05,\n",
       "   'clf__n_estimators': 120},\n",
       "  {'clf__criterion': 'gini',\n",
       "   'clf__max_depth': 2,\n",
       "   'clf__min_samples_leaf': 0.05,\n",
       "   'clf__min_samples_split': 0.1,\n",
       "   'clf__n_estimators': 120},\n",
       "  {'clf__criterion': 'gini',\n",
       "   'clf__max_depth': 2,\n",
       "   'clf__min_samples_leaf': 0.05,\n",
       "   'clf__min_samples_split': 0.2,\n",
       "   'clf__n_estimators': 120},\n",
       "  {'clf__criterion': 'gini',\n",
       "   'clf__max_depth': 2,\n",
       "   'clf__min_samples_leaf': 0.1,\n",
       "   'clf__min_samples_split': 0.05,\n",
       "   'clf__n_estimators': 120},\n",
       "  {'clf__criterion': 'gini',\n",
       "   'clf__max_depth': 2,\n",
       "   'clf__min_samples_leaf': 0.1,\n",
       "   'clf__min_samples_split': 0.1,\n",
       "   'clf__n_estimators': 120},\n",
       "  {'clf__criterion': 'gini',\n",
       "   'clf__max_depth': 2,\n",
       "   'clf__min_samples_leaf': 0.1,\n",
       "   'clf__min_samples_split': 0.2,\n",
       "   'clf__n_estimators': 120},\n",
       "  {'clf__criterion': 'gini',\n",
       "   'clf__max_depth': 2,\n",
       "   'clf__min_samples_leaf': 0.2,\n",
       "   'clf__min_samples_split': 0.05,\n",
       "   'clf__n_estimators': 120},\n",
       "  {'clf__criterion': 'gini',\n",
       "   'clf__max_depth': 2,\n",
       "   'clf__min_samples_leaf': 0.2,\n",
       "   'clf__min_samples_split': 0.1,\n",
       "   'clf__n_estimators': 120},\n",
       "  {'clf__criterion': 'gini',\n",
       "   'clf__max_depth': 2,\n",
       "   'clf__min_samples_leaf': 0.2,\n",
       "   'clf__min_samples_split': 0.2,\n",
       "   'clf__n_estimators': 120},\n",
       "  {'clf__criterion': 'gini',\n",
       "   'clf__max_depth': 4,\n",
       "   'clf__min_samples_leaf': 0.05,\n",
       "   'clf__min_samples_split': 0.05,\n",
       "   'clf__n_estimators': 120},\n",
       "  {'clf__criterion': 'gini',\n",
       "   'clf__max_depth': 4,\n",
       "   'clf__min_samples_leaf': 0.05,\n",
       "   'clf__min_samples_split': 0.1,\n",
       "   'clf__n_estimators': 120},\n",
       "  {'clf__criterion': 'gini',\n",
       "   'clf__max_depth': 4,\n",
       "   'clf__min_samples_leaf': 0.05,\n",
       "   'clf__min_samples_split': 0.2,\n",
       "   'clf__n_estimators': 120},\n",
       "  {'clf__criterion': 'gini',\n",
       "   'clf__max_depth': 4,\n",
       "   'clf__min_samples_leaf': 0.1,\n",
       "   'clf__min_samples_split': 0.05,\n",
       "   'clf__n_estimators': 120},\n",
       "  {'clf__criterion': 'gini',\n",
       "   'clf__max_depth': 4,\n",
       "   'clf__min_samples_leaf': 0.1,\n",
       "   'clf__min_samples_split': 0.1,\n",
       "   'clf__n_estimators': 120},\n",
       "  {'clf__criterion': 'gini',\n",
       "   'clf__max_depth': 4,\n",
       "   'clf__min_samples_leaf': 0.1,\n",
       "   'clf__min_samples_split': 0.2,\n",
       "   'clf__n_estimators': 120},\n",
       "  {'clf__criterion': 'gini',\n",
       "   'clf__max_depth': 4,\n",
       "   'clf__min_samples_leaf': 0.2,\n",
       "   'clf__min_samples_split': 0.05,\n",
       "   'clf__n_estimators': 120},\n",
       "  {'clf__criterion': 'gini',\n",
       "   'clf__max_depth': 4,\n",
       "   'clf__min_samples_leaf': 0.2,\n",
       "   'clf__min_samples_split': 0.1,\n",
       "   'clf__n_estimators': 120},\n",
       "  {'clf__criterion': 'gini',\n",
       "   'clf__max_depth': 4,\n",
       "   'clf__min_samples_leaf': 0.2,\n",
       "   'clf__min_samples_split': 0.2,\n",
       "   'clf__n_estimators': 120},\n",
       "  {'clf__criterion': 'gini',\n",
       "   'clf__max_depth': 6,\n",
       "   'clf__min_samples_leaf': 0.05,\n",
       "   'clf__min_samples_split': 0.05,\n",
       "   'clf__n_estimators': 120},\n",
       "  {'clf__criterion': 'gini',\n",
       "   'clf__max_depth': 6,\n",
       "   'clf__min_samples_leaf': 0.05,\n",
       "   'clf__min_samples_split': 0.1,\n",
       "   'clf__n_estimators': 120},\n",
       "  {'clf__criterion': 'gini',\n",
       "   'clf__max_depth': 6,\n",
       "   'clf__min_samples_leaf': 0.05,\n",
       "   'clf__min_samples_split': 0.2,\n",
       "   'clf__n_estimators': 120},\n",
       "  {'clf__criterion': 'gini',\n",
       "   'clf__max_depth': 6,\n",
       "   'clf__min_samples_leaf': 0.1,\n",
       "   'clf__min_samples_split': 0.05,\n",
       "   'clf__n_estimators': 120},\n",
       "  {'clf__criterion': 'gini',\n",
       "   'clf__max_depth': 6,\n",
       "   'clf__min_samples_leaf': 0.1,\n",
       "   'clf__min_samples_split': 0.1,\n",
       "   'clf__n_estimators': 120},\n",
       "  {'clf__criterion': 'gini',\n",
       "   'clf__max_depth': 6,\n",
       "   'clf__min_samples_leaf': 0.1,\n",
       "   'clf__min_samples_split': 0.2,\n",
       "   'clf__n_estimators': 120},\n",
       "  {'clf__criterion': 'gini',\n",
       "   'clf__max_depth': 6,\n",
       "   'clf__min_samples_leaf': 0.2,\n",
       "   'clf__min_samples_split': 0.05,\n",
       "   'clf__n_estimators': 120},\n",
       "  {'clf__criterion': 'gini',\n",
       "   'clf__max_depth': 6,\n",
       "   'clf__min_samples_leaf': 0.2,\n",
       "   'clf__min_samples_split': 0.1,\n",
       "   'clf__n_estimators': 120},\n",
       "  {'clf__criterion': 'gini',\n",
       "   'clf__max_depth': 6,\n",
       "   'clf__min_samples_leaf': 0.2,\n",
       "   'clf__min_samples_split': 0.2,\n",
       "   'clf__n_estimators': 120}],\n",
       " 'split0_test_score': array([0.47624434, 0.47624434, 0.46590175, 0.46170006, 0.46170006,\n",
       "        0.46170006, 0.44562056, 0.44562056, 0.44562056, 0.61683904,\n",
       "        0.61683904, 0.55130899, 0.50169683, 0.50169683, 0.50169683,\n",
       "        0.44562056, 0.44562056, 0.44562056, 0.62217195, 0.62217195,\n",
       "        0.55437944, 0.50185844, 0.50185844, 0.50185844, 0.44562056,\n",
       "        0.44562056, 0.44562056, 0.47826438, 0.47826438, 0.47204266,\n",
       "        0.45765999, 0.45765999, 0.45765999, 0.44513575, 0.44513575,\n",
       "        0.44513575, 0.61231416, 0.61231416, 0.56633807, 0.51422107,\n",
       "        0.51422107, 0.51422107, 0.44513575, 0.44513575, 0.44513575,\n",
       "        0.62063672, 0.62063672, 0.5677925 , 0.51414027, 0.51414027,\n",
       "        0.51414027, 0.44513575, 0.44513575, 0.44513575]),\n",
       " 'split1_test_score': array([0.47280808, 0.47280808, 0.45907071, 0.44961616, 0.44961616,\n",
       "        0.44961616, 0.43919192, 0.43919192, 0.43919192, 0.61971717,\n",
       "        0.61971717, 0.55684848, 0.48517172, 0.48517172, 0.48517172,\n",
       "        0.43919192, 0.43919192, 0.43919192, 0.62238384, 0.62238384,\n",
       "        0.56274747, 0.48525253, 0.48525253, 0.48525253, 0.43919192,\n",
       "        0.43919192, 0.43919192, 0.46189899, 0.46189899, 0.44387879,\n",
       "        0.44250505, 0.44250505, 0.44250505, 0.44315152, 0.44315152,\n",
       "        0.44315152, 0.60331313, 0.60331313, 0.53486869, 0.48969697,\n",
       "        0.48969697, 0.48969697, 0.44315152, 0.44315152, 0.44315152,\n",
       "        0.61309091, 0.61309091, 0.5419798 , 0.48969697, 0.48969697,\n",
       "        0.48969697, 0.44315152, 0.44315152, 0.44315152]),\n",
       " 'split2_test_score': array([0.51620202, 0.51620202, 0.50424242, 0.48808081, 0.48808081,\n",
       "        0.48808081, 0.44719192, 0.44719192, 0.44719192, 0.61810101,\n",
       "        0.61810101, 0.56428283, 0.5160404 , 0.5160404 , 0.5160404 ,\n",
       "        0.44719192, 0.44719192, 0.44719192, 0.62472727, 0.62472727,\n",
       "        0.56581818, 0.51620202, 0.51620202, 0.51620202, 0.44719192,\n",
       "        0.44719192, 0.44719192, 0.51725253, 0.51725253, 0.49260606,\n",
       "        0.47523232, 0.47523232, 0.47523232, 0.43733333, 0.43733333,\n",
       "        0.43733333, 0.60525253, 0.60525253, 0.5540202 , 0.51838384,\n",
       "        0.51838384, 0.51838384, 0.43733333, 0.43733333, 0.43733333,\n",
       "        0.62618182, 0.62618182, 0.56290909, 0.51886869, 0.51886869,\n",
       "        0.51886869, 0.43733333, 0.43733333, 0.43733333]),\n",
       " 'mean_test_score': array([0.48841815, 0.48841815, 0.47640496, 0.46646568, 0.46646568,\n",
       "        0.46646568, 0.44400146, 0.44400146, 0.44400146, 0.61821908,\n",
       "        0.61821908, 0.5574801 , 0.50096965, 0.50096965, 0.50096965,\n",
       "        0.44400146, 0.44400146, 0.44400146, 0.62309435, 0.62309435,\n",
       "        0.5609817 , 0.50110433, 0.50110433, 0.50110433, 0.44400146,\n",
       "        0.44400146, 0.44400146, 0.4858053 , 0.4858053 , 0.46950917,\n",
       "        0.45846579, 0.45846579, 0.45846579, 0.44187353, 0.44187353,\n",
       "        0.44187353, 0.60695994, 0.60695994, 0.55174232, 0.50743396,\n",
       "        0.50743396, 0.50743396, 0.44187353, 0.44187353, 0.44187353,\n",
       "        0.61996981, 0.61996981, 0.55756046, 0.50756864, 0.50756864,\n",
       "        0.50756864, 0.44187353, 0.44187353, 0.44187353]),\n",
       " 'std_test_score': array([0.01969619, 0.01969619, 0.01988063, 0.01606063, 0.01606063,\n",
       "        0.01606063, 0.00346084, 0.00346084, 0.00346084, 0.00117795,\n",
       "        0.00117795, 0.00531535, 0.01261257, 0.01261257, 0.01261257,\n",
       "        0.00346084, 0.00346084, 0.00346084, 0.00115789, 0.00115789,\n",
       "        0.00483388, 0.01264633, 0.01264633, 0.01264633, 0.00346084,\n",
       "        0.00346084, 0.00346084, 0.02321856, 0.02321856, 0.01997333,\n",
       "        0.013373  , 0.013373  , 0.013373  , 0.00331103, 0.00331103,\n",
       "        0.00331103, 0.00386791, 0.00386791, 0.0129479 , 0.01265656,\n",
       "        0.01265656, 0.01265656, 0.00331103, 0.00331103, 0.00331103,\n",
       "        0.00536511, 0.00536511, 0.01119612, 0.01278377, 0.01278377,\n",
       "        0.01278377, 0.00331103, 0.00331103, 0.00331103]),\n",
       " 'rank_test_score': array([25, 25, 29, 31, 31, 31, 37, 37, 37,  5,  5, 11, 22, 22, 22, 37, 37,\n",
       "        37,  1,  1,  9, 19, 19, 19, 37, 37, 37, 27, 27, 30, 34, 34, 34, 46,\n",
       "        46, 46,  7,  7, 12, 16, 16, 16, 46, 46, 46,  3,  3, 10, 13, 13, 13,\n",
       "        46, 46, 46], dtype=int32),\n",
       " 'split0_train_score': array([0.47785859, 0.47785859, 0.4649697 , 0.46157576, 0.46157576,\n",
       "        0.46157576, 0.44444444, 0.44444444, 0.44444444, 0.61939394,\n",
       "        0.61939394, 0.5609697 , 0.50743434, 0.50743434, 0.50743434,\n",
       "        0.44444444, 0.44444444, 0.44444444, 0.62622222, 0.62622222,\n",
       "        0.56311111, 0.50747475, 0.50747475, 0.50747475, 0.44444444,\n",
       "        0.44444444, 0.44444444, 0.47705051, 0.47705051, 0.47131313,\n",
       "        0.45717172, 0.45717172, 0.45717172, 0.44634343, 0.44634343,\n",
       "        0.44634343, 0.61345455, 0.61345455, 0.57050505, 0.51907071,\n",
       "        0.51907071, 0.51907071, 0.44634343, 0.44634343, 0.44634343,\n",
       "        0.62234343, 0.62234343, 0.57228283, 0.51915152, 0.51915152,\n",
       "        0.51915152, 0.44634343, 0.44634343, 0.44634343]),\n",
       " 'split1_train_score': array([0.47032443, 0.47032443, 0.45953699, 0.45153731, 0.45153731,\n",
       "        0.45153731, 0.4396186 , 0.4396186 , 0.4396186 , 0.61775282,\n",
       "        0.61775282, 0.55686639, 0.4848289 , 0.4848289 , 0.4848289 ,\n",
       "        0.4396186 , 0.4396186 , 0.4396186 , 0.62191427, 0.62191427,\n",
       "        0.56195709, 0.48515212, 0.48515212, 0.48515212, 0.4396186 ,\n",
       "        0.4396186 , 0.4396186 , 0.46107228, 0.46107228, 0.44539615,\n",
       "        0.44588097, 0.44588097, 0.44588097, 0.44373965, 0.44373965,\n",
       "        0.44373965, 0.60361198, 0.60361198, 0.53117046, 0.48975799,\n",
       "        0.48975799, 0.48975799, 0.44373965, 0.44373965, 0.44373965,\n",
       "        0.61351057, 0.61351057, 0.53820048, 0.48975799, 0.48975799,\n",
       "        0.48975799, 0.44373965, 0.44373965, 0.44373965]),\n",
       " 'split2_train_score': array([0.51076724, 0.51076724, 0.49812129, 0.48511171, 0.48511171,\n",
       "        0.48511171, 0.44539615, 0.44539615, 0.44539615, 0.6190457 ,\n",
       "        0.6190457 , 0.56131065, 0.51076724, 0.51076724, 0.51076724,\n",
       "        0.44539615, 0.44539615, 0.44539615, 0.6257929 , 0.6257929 ,\n",
       "        0.56252273, 0.51076724, 0.51076724, 0.51076724, 0.44539615,\n",
       "        0.44539615, 0.44539615, 0.51755485, 0.51755485, 0.49262656,\n",
       "        0.4748495 , 0.4748495 , 0.4748495 , 0.43711365, 0.43711365,\n",
       "        0.43711365, 0.6056321 , 0.6056321 , 0.55609874, 0.51565593,\n",
       "        0.51565593, 0.51565593, 0.43711365, 0.43711365, 0.43711365,\n",
       "        0.62425761, 0.62425761, 0.56555291, 0.51585795, 0.51585795,\n",
       "        0.51585795, 0.43711365, 0.43711365, 0.43711365]),\n",
       " 'mean_train_score': array([0.48631675, 0.48631675, 0.47420932, 0.46607493, 0.46607493,\n",
       "        0.46607493, 0.44315306, 0.44315306, 0.44315306, 0.61873082,\n",
       "        0.61873082, 0.55971558, 0.50101016, 0.50101016, 0.50101016,\n",
       "        0.44315306, 0.44315306, 0.44315306, 0.62464313, 0.62464313,\n",
       "        0.56253031, 0.50113137, 0.50113137, 0.50113137, 0.44315306,\n",
       "        0.44315306, 0.44315306, 0.48522588, 0.48522588, 0.46977861,\n",
       "        0.45930073, 0.45930073, 0.45930073, 0.44239891, 0.44239891,\n",
       "        0.44239891, 0.60756621, 0.60756621, 0.55259142, 0.50816154,\n",
       "        0.50816154, 0.50816154, 0.44239891, 0.44239891, 0.44239891,\n",
       "        0.6200372 , 0.6200372 , 0.55867874, 0.50825582, 0.50825582,\n",
       "        0.50825582, 0.44239891, 0.44239891, 0.44239891]),\n",
       " 'std_train_score': array([0.01756057, 0.01756057, 0.01705315, 0.01407106, 0.01407106,\n",
       "        0.01407106, 0.00252926, 0.00252926, 0.00252926, 0.00070601,\n",
       "        0.00070601, 0.00201948, 0.0115225 , 0.0115225 , 0.0115225 ,\n",
       "        0.00252926, 0.00252926, 0.00252926, 0.00193754, 0.00193754,\n",
       "        0.00047116, 0.01137871, 0.01137871, 0.01137871, 0.00252926,\n",
       "        0.00252926, 0.00252926, 0.0237725 , 0.0237725 , 0.01931224,\n",
       "        0.01192178, 0.01192178, 0.01192178, 0.00388548, 0.00388548,\n",
       "        0.00388548, 0.00424458, 0.00424458, 0.01624866, 0.01308774,\n",
       "        0.01308774, 0.01308774, 0.00388548, 0.00388548, 0.00388548,\n",
       "        0.00468072, 0.00468072, 0.01473866, 0.01314887, 0.01314887,\n",
       "        0.01314887, 0.00388548, 0.00388548, 0.00388548])}"
      ]
     },
     "execution_count": 31,
     "metadata": {},
     "output_type": "execute_result"
    }
   ],
   "source": [
    "# Your code here\n",
    "gs_rf.cv_results_"
   ]
  },
  {
   "cell_type": "markdown",
   "metadata": {},
   "source": [
    "### AdaBoost"
   ]
  },
  {
   "cell_type": "code",
   "execution_count": 33,
   "metadata": {},
   "outputs": [
    {
     "name": "stdout",
     "output_type": "stream",
     "text": [
      "Fitting 3 folds for each of 9 candidates, totalling 27 fits\n",
      "[CV] END .......clf__learning_rate=1.0, clf__n_estimators=30; total time=   4.2s\n",
      "[CV] END .......clf__learning_rate=1.0, clf__n_estimators=30; total time=   4.2s\n",
      "[CV] END .......clf__learning_rate=1.0, clf__n_estimators=30; total time=   4.4s\n",
      "[CV] END .......clf__learning_rate=1.0, clf__n_estimators=50; total time=   7.5s\n",
      "[CV] END .......clf__learning_rate=1.0, clf__n_estimators=50; total time=   7.4s\n",
      "[CV] END .......clf__learning_rate=1.0, clf__n_estimators=50; total time=   7.1s\n",
      "[CV] END .......clf__learning_rate=1.0, clf__n_estimators=70; total time=   9.9s\n",
      "[CV] END .......clf__learning_rate=1.0, clf__n_estimators=70; total time=  10.0s\n",
      "[CV] END .......clf__learning_rate=1.0, clf__n_estimators=70; total time=  10.0s\n",
      "[CV] END .......clf__learning_rate=0.5, clf__n_estimators=30; total time=   4.3s\n",
      "[CV] END .......clf__learning_rate=0.5, clf__n_estimators=30; total time=   4.4s\n",
      "[CV] END .......clf__learning_rate=0.5, clf__n_estimators=30; total time=   4.9s\n",
      "[CV] END .......clf__learning_rate=0.5, clf__n_estimators=50; total time=   7.4s\n",
      "[CV] END .......clf__learning_rate=0.5, clf__n_estimators=50; total time=   7.1s\n",
      "[CV] END .......clf__learning_rate=0.5, clf__n_estimators=50; total time=   7.7s\n",
      "[CV] END .......clf__learning_rate=0.5, clf__n_estimators=70; total time=   9.9s\n",
      "[CV] END .......clf__learning_rate=0.5, clf__n_estimators=70; total time=  10.1s\n",
      "[CV] END .......clf__learning_rate=0.5, clf__n_estimators=70; total time=  10.8s\n",
      "[CV] END .......clf__learning_rate=0.1, clf__n_estimators=30; total time=   4.8s\n",
      "[CV] END .......clf__learning_rate=0.1, clf__n_estimators=30; total time=   4.6s\n",
      "[CV] END .......clf__learning_rate=0.1, clf__n_estimators=30; total time=   4.7s\n",
      "[CV] END .......clf__learning_rate=0.1, clf__n_estimators=50; total time=   7.4s\n",
      "[CV] END .......clf__learning_rate=0.1, clf__n_estimators=50; total time=   7.0s\n",
      "[CV] END .......clf__learning_rate=0.1, clf__n_estimators=50; total time=   6.9s\n",
      "[CV] END .......clf__learning_rate=0.1, clf__n_estimators=70; total time=   9.8s\n",
      "[CV] END .......clf__learning_rate=0.1, clf__n_estimators=70; total time=   9.6s\n",
      "[CV] END .......clf__learning_rate=0.1, clf__n_estimators=70; total time=  10.1s\n"
     ]
    },
    {
     "data": {
      "text/plain": [
       "GridSearchCV(cv=3,\n",
       "             estimator=Pipeline(steps=[('pca',\n",
       "                                        PCA(n_components=27, random_state=123)),\n",
       "                                       ('clf',\n",
       "                                        AdaBoostClassifier(random_state=123))]),\n",
       "             param_grid={'clf__learning_rate': [1.0, 0.5, 0.1],\n",
       "                         'clf__n_estimators': [30, 50, 70]},\n",
       "             return_train_score=True, scoring='accuracy', verbose=2)"
      ]
     },
     "execution_count": 33,
     "metadata": {},
     "output_type": "execute_result"
    }
   ],
   "source": [
    "# Your code here\n",
    "# ⏰ This cell may take several minutes to run\n",
    "from sklearn.ensemble import AdaBoostClassifier\n",
    "pipeline_adaboost = Pipeline([('pca', PCA(n_components=27, random_state=123)), ('clf', AdaBoostClassifier(random_state=123))])\n",
    "adaboost_param_grid = {'clf__n_estimators': [30, 50, 70],\n",
    "                      'clf__learning_rate': [1.0, 0.5, 0.1]}\n",
    "gs_ab = GridSearchCV(estimator=pipeline_adaboost, param_grid = adaboost_param_grid, scoring='accuracy', cv=3, verbose=2, return_train_score=True)\n",
    "gs_ab.fit(X_train, y_train)"
   ]
  },
  {
   "cell_type": "code",
   "execution_count": 35,
   "metadata": {},
   "outputs": [
    {
     "data": {
      "text/plain": [
       "{'clf__learning_rate': 0.5, 'clf__n_estimators': 50}"
      ]
     },
     "execution_count": 35,
     "metadata": {},
     "output_type": "execute_result"
    }
   ],
   "source": [
    "gs_ab.best_params_"
   ]
  },
  {
   "cell_type": "code",
   "execution_count": 36,
   "metadata": {},
   "outputs": [
    {
     "data": {
      "text/plain": [
       "0.6609386844092726"
      ]
     },
     "execution_count": 36,
     "metadata": {},
     "output_type": "execute_result"
    }
   ],
   "source": [
    "gs_ab.best_score_"
   ]
  },
  {
   "cell_type": "markdown",
   "metadata": {},
   "source": [
    "Use your grid search object along with `.cv_results` to get the full result overview: "
   ]
  },
  {
   "cell_type": "code",
   "execution_count": 38,
   "metadata": {},
   "outputs": [
    {
     "data": {
      "text/plain": [
       "{'mean_fit_time': array([ 4.13446109,  7.13704038,  9.68415141,  4.40544033,  7.19501821,\n",
       "        10.02056996,  4.57056753,  6.9225889 ,  9.55454103]),\n",
       " 'std_fit_time': array([0.08046784, 0.13029818, 0.04302433, 0.23188945, 0.23849593,\n",
       "        0.40398542, 0.07570937, 0.18885078, 0.21022727]),\n",
       " 'mean_score_time': array([0.14014665, 0.20368091, 0.25806483, 0.129884  , 0.20187736,\n",
       "        0.26090296, 0.1331025 , 0.1970315 , 0.26245673]),\n",
       " 'std_score_time': array([0.00111972, 0.01144089, 0.00281417, 0.00173945, 0.0087923 ,\n",
       "        0.0068296 , 0.00342972, 0.01224317, 0.00821107]),\n",
       " 'param_clf__learning_rate': masked_array(data=[1.0, 1.0, 1.0, 0.5, 0.5, 0.5, 0.1, 0.1, 0.1],\n",
       "              mask=[False, False, False, False, False, False, False, False,\n",
       "                    False],\n",
       "        fill_value='?',\n",
       "             dtype=object),\n",
       " 'param_clf__n_estimators': masked_array(data=[30, 50, 70, 30, 50, 70, 30, 50, 70],\n",
       "              mask=[False, False, False, False, False, False, False, False,\n",
       "                    False],\n",
       "        fill_value='?',\n",
       "             dtype=object),\n",
       " 'params': [{'clf__learning_rate': 1.0, 'clf__n_estimators': 30},\n",
       "  {'clf__learning_rate': 1.0, 'clf__n_estimators': 50},\n",
       "  {'clf__learning_rate': 1.0, 'clf__n_estimators': 70},\n",
       "  {'clf__learning_rate': 0.5, 'clf__n_estimators': 30},\n",
       "  {'clf__learning_rate': 0.5, 'clf__n_estimators': 50},\n",
       "  {'clf__learning_rate': 0.5, 'clf__n_estimators': 70},\n",
       "  {'clf__learning_rate': 0.1, 'clf__n_estimators': 30},\n",
       "  {'clf__learning_rate': 0.1, 'clf__n_estimators': 50},\n",
       "  {'clf__learning_rate': 0.1, 'clf__n_estimators': 70}],\n",
       " 'split0_test_score': array([0.64924047, 0.62895928, 0.61740465, 0.64883646, 0.65134131,\n",
       "        0.65481577, 0.57207498, 0.60859729, 0.62306076]),\n",
       " 'split1_test_score': array([0.60767677, 0.60008081, 0.58529293, 0.65810101, 0.67280808,\n",
       "        0.66739394, 0.53882828, 0.60557576, 0.62262626]),\n",
       " 'split2_test_score': array([0.63474747, 0.60420202, 0.59264646, 0.65478788, 0.65866667,\n",
       "        0.65672727, 0.53341414, 0.58165657, 0.63022222]),\n",
       " 'mean_test_score': array([0.6305549 , 0.6110807 , 0.59844802, 0.65390845, 0.66093868,\n",
       "        0.65964566, 0.5481058 , 0.59860987, 0.62530308]),\n",
       " 'std_test_score': array([0.01722534, 0.01275353, 0.01373643, 0.00383302, 0.00890981,\n",
       "        0.00553416, 0.01709229, 0.01205109, 0.00348288]),\n",
       " 'rank_test_score': array([4, 6, 8, 3, 1, 2, 9, 7, 5], dtype=int32),\n",
       " 'split0_train_score': array([0.65155556, 0.6349899 , 0.62254545, 0.65373737, 0.65971717,\n",
       "        0.66545455, 0.57866667, 0.61232323, 0.62585859]),\n",
       " 'split1_train_score': array([0.6124197 , 0.60530888, 0.5922185 , 0.65492303, 0.67249808,\n",
       "        0.66841744, 0.53937215, 0.60805624, 0.62340916]),\n",
       " 'split2_train_score': array([0.63702477, 0.61084401, 0.59795564, 0.65997333, 0.66348834,\n",
       "        0.66150863, 0.53092804, 0.58074421, 0.62668175]),\n",
       " 'mean_train_score': array([0.63366667, 0.61704759, 0.60423986, 0.65621125, 0.66523453,\n",
       "        0.66512687, 0.54965562, 0.60037456, 0.6253165 ]),\n",
       " 'std_train_score': array([0.01615263, 0.01288679, 0.01315421, 0.00270388, 0.00536189,\n",
       "        0.00283001, 0.02080154, 0.01398963, 0.00138993])}"
      ]
     },
     "execution_count": 38,
     "metadata": {},
     "output_type": "execute_result"
    }
   ],
   "source": [
    "# Your code here\n",
    "gs_ab.cv_results_"
   ]
  },
  {
   "cell_type": "markdown",
   "metadata": {},
   "source": [
    "### Level-up (Optional): SVM pipeline with grid search \n",
    "\n",
    "As extra level-up work, construct a pipeline with grid search for support vector machines. \n",
    "* Make sure your grid isn't too big. You'll see it takes quite a while to fit SVMs with non-linear kernel functions!"
   ]
  },
  {
   "cell_type": "code",
   "execution_count": null,
   "metadata": {},
   "outputs": [],
   "source": [
    "# Your code here\n",
    "# ⏰ This cell may take a very long time to run!"
   ]
  },
  {
   "cell_type": "markdown",
   "metadata": {},
   "source": [
    "Use your grid search object along with `.cv_results` to get the full result overview: "
   ]
  },
  {
   "cell_type": "code",
   "execution_count": null,
   "metadata": {},
   "outputs": [],
   "source": [
    "# Your code here "
   ]
  },
  {
   "cell_type": "markdown",
   "metadata": {},
   "source": [
    "## Note\n",
    "\n",
    "Note that this solution is only one of many options. The results in the Random Forest and AdaBoost models show that there is a lot of improvement possible by tuning the hyperparameters further, so make sure to explore this yourself!"
   ]
  },
  {
   "cell_type": "markdown",
   "metadata": {},
   "source": [
    "## Summary \n",
    "\n",
    "Great! You've gotten a lot of practice in using PCA in pipelines. What algorithm would you choose and why?"
   ]
  }
 ],
 "metadata": {
  "kernelspec": {
   "display_name": "Python 3",
   "language": "python",
   "name": "python3"
  },
  "language_info": {
   "codemirror_mode": {
    "name": "ipython",
    "version": 3
   },
   "file_extension": ".py",
   "mimetype": "text/x-python",
   "name": "python",
   "nbconvert_exporter": "python",
   "pygments_lexer": "ipython3",
   "version": "3.6.9"
  },
  "toc": {
   "base_numbering": 1,
   "nav_menu": {},
   "number_sections": true,
   "sideBar": true,
   "skip_h1_title": false,
   "title_cell": "Table of Contents",
   "title_sidebar": "Contents",
   "toc_cell": false,
   "toc_position": {},
   "toc_section_display": true,
   "toc_window_display": false
  }
 },
 "nbformat": 4,
 "nbformat_minor": 2
}
